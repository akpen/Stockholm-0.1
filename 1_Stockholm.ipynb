# Test pull request. Do festival

{
 "cells": [
  {
   "cell_type": "markdown",
   "metadata": {},
   "source": [
    "# Quantifying the effect of inefficiencies in a Road Network : NYC\n",
    "#### - Akshay Penmatcha / akp418"
   ]
  },
  {
   "cell_type": "code",
   "execution_count": 132,
   "metadata": {
    "collapsed": false
   },
   "outputs": [],
   "source": [
    "import pandas as pd\n",
    "import numpy as np\n",
    "import geopandas as gpd\n",
    "from geopandas import GeoDataFrame\n",
    "import fiona\n",
    "from fiona.crs import from_epsg\n",
    "import shapely\n",
    "import matplotlib.pyplot as plt\n",
    "\n",
    "import statsmodels.formula.api as smf\n",
    "from sklearn import cluster, datasets\n",
    "import matplotlib.pylab as plt\n",
    "#from sklearn.mixture import GaussianMixture\n",
    "from sklearn.linear_model import LogisticRegression\n",
    "%matplotlib inline\n",
    "\n",
    "%matplotlib inline"
   ]
  },
  {
   "cell_type": "code",
   "execution_count": 2,
   "metadata": {
    "collapsed": false
   },
   "outputs": [
    {
     "data": {
      "text/html": [
       "<div>\n",
       "<table border=\"1\" class=\"dataframe\">\n",
       "  <thead>\n",
       "    <tr style=\"text-align: right;\">\n",
       "      <th></th>\n",
       "      <th>bike_lane</th>\n",
       "      <th>borocode</th>\n",
       "      <th>date_creat</th>\n",
       "      <th>date_modif</th>\n",
       "      <th>frm_lvl_co</th>\n",
       "      <th>full_stree</th>\n",
       "      <th>geometry</th>\n",
       "      <th>l_blkfc_id</th>\n",
       "      <th>l_high_hn</th>\n",
       "      <th>l_low_hn</th>\n",
       "      <th>...</th>\n",
       "      <th>rw_type</th>\n",
       "      <th>shape_leng</th>\n",
       "      <th>snow_pri</th>\n",
       "      <th>st_name</th>\n",
       "      <th>st_width</th>\n",
       "      <th>status</th>\n",
       "      <th>time_creat</th>\n",
       "      <th>time_modif</th>\n",
       "      <th>to_lvl_co</th>\n",
       "      <th>trafdir</th>\n",
       "    </tr>\n",
       "  </thead>\n",
       "  <tbody>\n",
       "    <tr>\n",
       "      <th>0</th>\n",
       "      <td>None</td>\n",
       "      <td>4</td>\n",
       "      <td>2007-11-29</td>\n",
       "      <td>2015-11-03</td>\n",
       "      <td>13.0</td>\n",
       "      <td>133 AVE</td>\n",
       "      <td>LINESTRING (-73.7909965719556 40.6685376109849...</td>\n",
       "      <td>4.226098e+07</td>\n",
       "      <td>148-099</td>\n",
       "      <td>148-001</td>\n",
       "      <td>...</td>\n",
       "      <td>1.0</td>\n",
       "      <td>247.574169</td>\n",
       "      <td>T</td>\n",
       "      <td>133 AV</td>\n",
       "      <td>30.0</td>\n",
       "      <td>2</td>\n",
       "      <td>00:00:00.000</td>\n",
       "      <td>00:00:00.000</td>\n",
       "      <td>13.0</td>\n",
       "      <td>TW</td>\n",
       "    </tr>\n",
       "    <tr>\n",
       "      <th>1</th>\n",
       "      <td>None</td>\n",
       "      <td>4</td>\n",
       "      <td>2009-06-16</td>\n",
       "      <td>2015-11-07</td>\n",
       "      <td>13.0</td>\n",
       "      <td>GCP</td>\n",
       "      <td>LINESTRING (-73.84554250435114 40.739657802135...</td>\n",
       "      <td>9.226099e+07</td>\n",
       "      <td>None</td>\n",
       "      <td>None</td>\n",
       "      <td>...</td>\n",
       "      <td>2.0</td>\n",
       "      <td>650.954853</td>\n",
       "      <td>P</td>\n",
       "      <td>GRAND CENTRAL PKWY</td>\n",
       "      <td>45.0</td>\n",
       "      <td>2</td>\n",
       "      <td>00:00:00.000</td>\n",
       "      <td>00:00:00.000</td>\n",
       "      <td>13.0</td>\n",
       "      <td>FT</td>\n",
       "    </tr>\n",
       "    <tr>\n",
       "      <th>2</th>\n",
       "      <td>None</td>\n",
       "      <td>3</td>\n",
       "      <td>2007-11-29</td>\n",
       "      <td>2016-02-05</td>\n",
       "      <td>13.0</td>\n",
       "      <td>WASHINGTON AVE</td>\n",
       "      <td>LINESTRING (-73.96582204725706 40.688209422824...</td>\n",
       "      <td>1.922614e+09</td>\n",
       "      <td>393</td>\n",
       "      <td>349</td>\n",
       "      <td>...</td>\n",
       "      <td>1.0</td>\n",
       "      <td>540.018331</td>\n",
       "      <td>P</td>\n",
       "      <td>WASHINGTON AV</td>\n",
       "      <td>40.0</td>\n",
       "      <td>2</td>\n",
       "      <td>00:00:00.000</td>\n",
       "      <td>00:00:00.000</td>\n",
       "      <td>13.0</td>\n",
       "      <td>TW</td>\n",
       "    </tr>\n",
       "    <tr>\n",
       "      <th>3</th>\n",
       "      <td>2</td>\n",
       "      <td>4</td>\n",
       "      <td>2015-07-06</td>\n",
       "      <td>2015-09-23</td>\n",
       "      <td>13.0</td>\n",
       "      <td>ROCKAWAY BEACH AVE</td>\n",
       "      <td>LINESTRING (-73.85196038837651 40.574280057286...</td>\n",
       "      <td>1.226127e+07</td>\n",
       "      <td>134-099</td>\n",
       "      <td>134-001</td>\n",
       "      <td>...</td>\n",
       "      <td>1.0</td>\n",
       "      <td>251.080202</td>\n",
       "      <td>P</td>\n",
       "      <td>ROCKAWAY BEACH BLVD</td>\n",
       "      <td>24.0</td>\n",
       "      <td>2</td>\n",
       "      <td>00:00:00.000</td>\n",
       "      <td>00:00:00.000</td>\n",
       "      <td>13.0</td>\n",
       "      <td>TF</td>\n",
       "    </tr>\n",
       "    <tr>\n",
       "      <th>4</th>\n",
       "      <td>None</td>\n",
       "      <td>4</td>\n",
       "      <td>2007-11-29</td>\n",
       "      <td>2015-11-07</td>\n",
       "      <td>13.0</td>\n",
       "      <td>94 ST</td>\n",
       "      <td>LINESTRING (-73.86924838521583 40.740570212006...</td>\n",
       "      <td>9.226385e+07</td>\n",
       "      <td>51-099</td>\n",
       "      <td>51-001</td>\n",
       "      <td>...</td>\n",
       "      <td>1.0</td>\n",
       "      <td>260.488194</td>\n",
       "      <td>P</td>\n",
       "      <td>94 ST</td>\n",
       "      <td>30.0</td>\n",
       "      <td>2</td>\n",
       "      <td>00:00:00.000</td>\n",
       "      <td>00:00:00.000</td>\n",
       "      <td>13.0</td>\n",
       "      <td>TW</td>\n",
       "    </tr>\n",
       "  </tbody>\n",
       "</table>\n",
       "<p>5 rows × 32 columns</p>\n",
       "</div>"
      ],
      "text/plain": [
       "  bike_lane borocode  date_creat  date_modif  frm_lvl_co          full_stree  \\\n",
       "0      None        4  2007-11-29  2015-11-03        13.0             133 AVE   \n",
       "1      None        4  2009-06-16  2015-11-07        13.0                 GCP   \n",
       "2      None        3  2007-11-29  2016-02-05        13.0      WASHINGTON AVE   \n",
       "3         2        4  2015-07-06  2015-09-23        13.0  ROCKAWAY BEACH AVE   \n",
       "4      None        4  2007-11-29  2015-11-07        13.0               94 ST   \n",
       "\n",
       "                                            geometry    l_blkfc_id l_high_hn  \\\n",
       "0  LINESTRING (-73.7909965719556 40.6685376109849...  4.226098e+07   148-099   \n",
       "1  LINESTRING (-73.84554250435114 40.739657802135...  9.226099e+07      None   \n",
       "2  LINESTRING (-73.96582204725706 40.688209422824...  1.922614e+09       393   \n",
       "3  LINESTRING (-73.85196038837651 40.574280057286...  1.226127e+07   134-099   \n",
       "4  LINESTRING (-73.86924838521583 40.740570212006...  9.226385e+07    51-099   \n",
       "\n",
       "  l_low_hn   ...   rw_type  shape_leng snow_pri              st_name st_width  \\\n",
       "0  148-001   ...       1.0  247.574169        T               133 AV     30.0   \n",
       "1     None   ...       2.0  650.954853        P   GRAND CENTRAL PKWY     45.0   \n",
       "2      349   ...       1.0  540.018331        P        WASHINGTON AV     40.0   \n",
       "3  134-001   ...       1.0  251.080202        P  ROCKAWAY BEACH BLVD     24.0   \n",
       "4   51-001   ...       1.0  260.488194        P                94 ST     30.0   \n",
       "\n",
       "  status    time_creat    time_modif  to_lvl_co trafdir  \n",
       "0      2  00:00:00.000  00:00:00.000       13.0      TW  \n",
       "1      2  00:00:00.000  00:00:00.000       13.0      FT  \n",
       "2      2  00:00:00.000  00:00:00.000       13.0      TW  \n",
       "3      2  00:00:00.000  00:00:00.000       13.0      TF  \n",
       "4      2  00:00:00.000  00:00:00.000       13.0      TW  \n",
       "\n",
       "[5 rows x 32 columns]"
      ]
     },
     "execution_count": 2,
     "metadata": {},
     "output_type": "execute_result"
    }
   ],
   "source": [
    "# Dataset_1: Importing the Streetline Datafile\n",
    "\n",
    "nyc_streetline = gpd.read_file('Data/Streetline/geo_export_bd3fc424-f8ad-4c3b-9d41-362af6349e2e.shp')\n",
    "nyc_streetline.head()"
   ]
  },
  {
   "cell_type": "code",
   "execution_count": 3,
   "metadata": {
    "collapsed": true
   },
   "outputs": [],
   "source": [
    "# Dataset_1: Changing the Co-ordinate system for Uniformity\n",
    "nyc_streetline.crs = from_epsg(4326)\n",
    "nyc_streetline.to_crs(epsg=4326, inplace=True)"
   ]
  },
  {
   "cell_type": "code",
   "execution_count": 58,
   "metadata": {
    "collapsed": false,
    "scrolled": false
   },
   "outputs": [
    {
     "data": {
      "text/html": [
       "<div>\n",
       "<table border=\"1\" class=\"dataframe\">\n",
       "  <thead>\n",
       "    <tr style=\"text-align: right;\">\n",
       "      <th></th>\n",
       "      <th>physicalid</th>\n",
       "      <th>geometry</th>\n",
       "      <th>Street_width_1</th>\n",
       "      <th>Shape_length_1</th>\n",
       "      <th>bike_lane_1</th>\n",
       "    </tr>\n",
       "  </thead>\n",
       "  <tbody>\n",
       "    <tr>\n",
       "      <th>0</th>\n",
       "      <td>756.0</td>\n",
       "      <td>LINESTRING (-74.0082589089775 40.7446738428873...</td>\n",
       "      <td>44.0</td>\n",
       "      <td>54.871697</td>\n",
       "      <td>4</td>\n",
       "    </tr>\n",
       "    <tr>\n",
       "      <th>1</th>\n",
       "      <td>23368.0</td>\n",
       "      <td>LINESTRING (-73.96269457607582 40.760746052436...</td>\n",
       "      <td>30.0</td>\n",
       "      <td>375.239267</td>\n",
       "      <td>None</td>\n",
       "    </tr>\n",
       "    <tr>\n",
       "      <th>2</th>\n",
       "      <td>4357.0</td>\n",
       "      <td>LINESTRING (-73.98391366493104 40.711303332442...</td>\n",
       "      <td>26.0</td>\n",
       "      <td>83.302336</td>\n",
       "      <td>None</td>\n",
       "    </tr>\n",
       "    <tr>\n",
       "      <th>3</th>\n",
       "      <td>2901.0</td>\n",
       "      <td>LINESTRING (-73.94778083851676 40.830263780459...</td>\n",
       "      <td>40.0</td>\n",
       "      <td>259.939595</td>\n",
       "      <td>None</td>\n",
       "    </tr>\n",
       "    <tr>\n",
       "      <th>4</th>\n",
       "      <td>26755.0</td>\n",
       "      <td>LINESTRING (-73.93547108195284 40.849144383074...</td>\n",
       "      <td>42.0</td>\n",
       "      <td>289.503483</td>\n",
       "      <td>None</td>\n",
       "    </tr>\n",
       "  </tbody>\n",
       "</table>\n",
       "</div>"
      ],
      "text/plain": [
       "   physicalid                                           geometry  \\\n",
       "0       756.0  LINESTRING (-74.0082589089775 40.7446738428873...   \n",
       "1     23368.0  LINESTRING (-73.96269457607582 40.760746052436...   \n",
       "2      4357.0  LINESTRING (-73.98391366493104 40.711303332442...   \n",
       "3      2901.0  LINESTRING (-73.94778083851676 40.830263780459...   \n",
       "4     26755.0  LINESTRING (-73.93547108195284 40.849144383074...   \n",
       "\n",
       "   Street_width_1  Shape_length_1 bike_lane_1  \n",
       "0            44.0       54.871697           4  \n",
       "1            30.0      375.239267        None  \n",
       "2            26.0       83.302336        None  \n",
       "3            40.0      259.939595        None  \n",
       "4            42.0      289.503483        None  "
      ]
     },
     "execution_count": 58,
     "metadata": {},
     "output_type": "execute_result"
    }
   ],
   "source": [
    "# Dataset_1 : Filtering and Cleaning Unnecessary Data\n",
    "nyc_streetline = nyc_streetline[[ u'physicalid', u'geometry', u'st_width', u'shape_leng', u'bike_lane', \n",
    "                                 u'borocode', u'l_zip', u'rw_type' ]]\n",
    "\n",
    "mn_streetline = nyc_streetline[nyc_streetline.borocode == '1']\n",
    "mn_streetline = mn_streetline[mn_streetline.rw_type == 1]\n",
    "mn_streetline = mn_streetline[mn_streetline.st_width != 0]\n",
    "\n",
    "#Resetting Index after clean\n",
    "mn_streetline.reset_index(inplace=True)\n",
    "mn_streetline.drop('index', axis=1, inplace=True)\n",
    "\n",
    "#Renaming Columns after reset\n",
    "mn_streetline.columns = ['physicalid', 'geometry', 'Street_width_1', 'Shape_length_1', 'bike_lane_1',  u'borocode',\\\n",
    "                         u'l_zip', u'rw_type']\n",
    "mn_streetline.drop(['borocode', 'l_zip', 'rw_type'],axis=1, inplace=True)\n",
    "mn_streetline.head()"
   ]
  },
  {
   "cell_type": "code",
   "execution_count": 5,
   "metadata": {
    "collapsed": false
   },
   "outputs": [
    {
     "data": {
      "text/html": [
       "<div>\n",
       "<table border=\"1\" class=\"dataframe\">\n",
       "  <thead>\n",
       "    <tr style=\"text-align: right;\">\n",
       "      <th></th>\n",
       "      <th>geometry</th>\n",
       "      <th>Street_width_1</th>\n",
       "      <th>Shape_length_1</th>\n",
       "      <th>bike_lane_1</th>\n",
       "    </tr>\n",
       "  </thead>\n",
       "  <tbody>\n",
       "    <tr>\n",
       "      <th>0</th>\n",
       "      <td>LINESTRING (-74.0082589089775 40.7446738428873...</td>\n",
       "      <td>44.0</td>\n",
       "      <td>54.871697</td>\n",
       "      <td>4</td>\n",
       "    </tr>\n",
       "    <tr>\n",
       "      <th>1</th>\n",
       "      <td>LINESTRING (-73.96269457607582 40.760746052436...</td>\n",
       "      <td>30.0</td>\n",
       "      <td>375.239267</td>\n",
       "      <td>None</td>\n",
       "    </tr>\n",
       "    <tr>\n",
       "      <th>2</th>\n",
       "      <td>LINESTRING (-73.98391366493104 40.711303332442...</td>\n",
       "      <td>26.0</td>\n",
       "      <td>83.302336</td>\n",
       "      <td>None</td>\n",
       "    </tr>\n",
       "    <tr>\n",
       "      <th>3</th>\n",
       "      <td>LINESTRING (-73.94778083851676 40.830263780459...</td>\n",
       "      <td>40.0</td>\n",
       "      <td>259.939595</td>\n",
       "      <td>None</td>\n",
       "    </tr>\n",
       "    <tr>\n",
       "      <th>4</th>\n",
       "      <td>LINESTRING (-73.93547108195284 40.849144383074...</td>\n",
       "      <td>42.0</td>\n",
       "      <td>289.503483</td>\n",
       "      <td>None</td>\n",
       "    </tr>\n",
       "  </tbody>\n",
       "</table>\n",
       "</div>"
      ],
      "text/plain": [
       "                                            geometry  Street_width_1  \\\n",
       "0  LINESTRING (-74.0082589089775 40.7446738428873...            44.0   \n",
       "1  LINESTRING (-73.96269457607582 40.760746052436...            30.0   \n",
       "2  LINESTRING (-73.98391366493104 40.711303332442...            26.0   \n",
       "3  LINESTRING (-73.94778083851676 40.830263780459...            40.0   \n",
       "4  LINESTRING (-73.93547108195284 40.849144383074...            42.0   \n",
       "\n",
       "   Shape_length_1 bike_lane_1  \n",
       "0       54.871697           4  \n",
       "1      375.239267        None  \n",
       "2       83.302336        None  \n",
       "3      259.939595        None  \n",
       "4      289.503483        None  "
      ]
     },
     "execution_count": 5,
     "metadata": {},
     "output_type": "execute_result"
    }
   ],
   "source": [
    "# Dataset_1 : Truncated Version for running the code\n",
    "x_streetline = mn_streetline.loc[:100,:]\n",
    "x_streetline.head()"
   ]
  },
  {
   "cell_type": "code",
   "execution_count": 6,
   "metadata": {
    "collapsed": false,
    "scrolled": false
   },
   "outputs": [
    {
     "data": {
      "image/png": "[encoded data removed]",
      "text/plain": [
       "<matplotlib.figure.Figure at 0x7f7aa04d6450>"
      ]
     },
     "metadata": {},
     "output_type": "display_data"
    }
   ],
   "source": [
    "# Dataset_1 : Sample Plotting of Truncated Data\n",
    "x_streetline.plot(figsize=(10,10))\n",
    "plt.show()"
   ]
  },
  {
   "cell_type": "code",
   "execution_count": 7,
   "metadata": {
    "collapsed": false
   },
   "outputs": [
    {
     "data": {
      "text/html": [
       "<div>\n",
       "<table border=\"1\" class=\"dataframe\">\n",
       "  <thead>\n",
       "    <tr style=\"text-align: right;\">\n",
       "      <th></th>\n",
       "      <th>Boro</th>\n",
       "      <th>DefNum</th>\n",
       "      <th>FrmPrimNam</th>\n",
       "      <th>HouseNum</th>\n",
       "      <th>InitBy</th>\n",
       "      <th>OBJECTID</th>\n",
       "      <th>OFT</th>\n",
       "      <th>OnFaceName</th>\n",
       "      <th>OnPrimName</th>\n",
       "      <th>RptClosed</th>\n",
       "      <th>RptDate</th>\n",
       "      <th>Shape_leng</th>\n",
       "      <th>Source</th>\n",
       "      <th>SpecLoc</th>\n",
       "      <th>ToPrimName</th>\n",
       "      <th>geometry</th>\n",
       "    </tr>\n",
       "  </thead>\n",
       "  <tbody>\n",
       "    <tr>\n",
       "      <th>0</th>\n",
       "      <td>B</td>\n",
       "      <td>DB2004287021</td>\n",
       "      <td>BELT PARKWAY</td>\n",
       "      <td>None</td>\n",
       "      <td>CSC</td>\n",
       "      <td>1</td>\n",
       "      <td>318630377030377030</td>\n",
       "      <td>BEDFORD AV</td>\n",
       "      <td>BEDFORD AVENUE</td>\n",
       "      <td>2013-02-14</td>\n",
       "      <td>2004-10-13</td>\n",
       "      <td>217.321398</td>\n",
       "      <td>CTZ</td>\n",
       "      <td>SB ON BEDFORD_UNDERNEATH OVERPASS</td>\n",
       "      <td>BELT PARKWAY</td>\n",
       "      <td>LINESTRING (999841.5793691427 152521.396450728...</td>\n",
       "    </tr>\n",
       "    <tr>\n",
       "      <th>1</th>\n",
       "      <td>B</td>\n",
       "      <td>DB2006085009</td>\n",
       "      <td>38 STREET</td>\n",
       "      <td>None</td>\n",
       "      <td>CSC</td>\n",
       "      <td>2</td>\n",
       "      <td>306380308480308530</td>\n",
       "      <td>13 AV</td>\n",
       "      <td>13 AVENUE</td>\n",
       "      <td>2014-10-11</td>\n",
       "      <td>2006-03-26</td>\n",
       "      <td>260.495098</td>\n",
       "      <td>CTZ</td>\n",
       "      <td>I/F/O B16 BUS STOP</td>\n",
       "      <td>39 STREET</td>\n",
       "      <td>LINESTRING (988216.0878563821 172877.916761219...</td>\n",
       "    </tr>\n",
       "    <tr>\n",
       "      <th>2</th>\n",
       "      <td>B</td>\n",
       "      <td>DB2007166005</td>\n",
       "      <td>LEWIS AVENUE</td>\n",
       "      <td>1688</td>\n",
       "      <td>CSC</td>\n",
       "      <td>3</td>\n",
       "      <td>342730355530375430</td>\n",
       "      <td>FULTON ST</td>\n",
       "      <td>FULTON STREET</td>\n",
       "      <td>2011-01-14</td>\n",
       "      <td>2007-06-15</td>\n",
       "      <td>549.255973</td>\n",
       "      <td>CTZ</td>\n",
       "      <td>POTHOLE NEAR CURB I/F/O ADDRESS</td>\n",
       "      <td>SCHENECTADY AVENUE</td>\n",
       "      <td>LINESTRING (1002314.241746634 186877.218815058...</td>\n",
       "    </tr>\n",
       "    <tr>\n",
       "      <th>3</th>\n",
       "      <td>B</td>\n",
       "      <td>DB2009352004</td>\n",
       "      <td>DEKALB AVENUE</td>\n",
       "      <td>45</td>\n",
       "      <td>CSC</td>\n",
       "      <td>4</td>\n",
       "      <td>380030331530342730</td>\n",
       "      <td>ST FELIX ST</td>\n",
       "      <td>ST FELIX STREET</td>\n",
       "      <td>2010-01-06</td>\n",
       "      <td>2009-12-18</td>\n",
       "      <td>836.436669</td>\n",
       "      <td>CTZ</td>\n",
       "      <td>4\" DEEP</td>\n",
       "      <td>FULTON STREET</td>\n",
       "      <td>LINESTRING (990367.9142613858 190592.204823389...</td>\n",
       "    </tr>\n",
       "    <tr>\n",
       "      <th>4</th>\n",
       "      <td>B</td>\n",
       "      <td>DB2009362038</td>\n",
       "      <td>EAST 5 STREET</td>\n",
       "      <td>514</td>\n",
       "      <td>CSC</td>\n",
       "      <td>5</td>\n",
       "      <td>313830335030367730</td>\n",
       "      <td>AV C</td>\n",
       "      <td>AVENUE C</td>\n",
       "      <td>2010-01-04</td>\n",
       "      <td>2009-12-28</td>\n",
       "      <td>385.456668</td>\n",
       "      <td>CTZ</td>\n",
       "      <td>ONE POTHOLE I/F/O DRIVE WAY RIGHT OFF THE CURB</td>\n",
       "      <td>OCEAN PARKWAY</td>\n",
       "      <td>LINESTRING (991183.998259142 172724.2225148082...</td>\n",
       "    </tr>\n",
       "  </tbody>\n",
       "</table>\n",
       "</div>"
      ],
      "text/plain": [
       "  Boro        DefNum     FrmPrimNam HouseNum InitBy  OBJECTID  \\\n",
       "0    B  DB2004287021   BELT PARKWAY     None    CSC         1   \n",
       "1    B  DB2006085009      38 STREET     None    CSC         2   \n",
       "2    B  DB2007166005   LEWIS AVENUE     1688    CSC         3   \n",
       "3    B  DB2009352004  DEKALB AVENUE       45    CSC         4   \n",
       "4    B  DB2009362038  EAST 5 STREET      514    CSC         5   \n",
       "\n",
       "                  OFT   OnFaceName       OnPrimName   RptClosed     RptDate  \\\n",
       "0  318630377030377030   BEDFORD AV   BEDFORD AVENUE  2013-02-14  2004-10-13   \n",
       "1  306380308480308530        13 AV        13 AVENUE  2014-10-11  2006-03-26   \n",
       "2  342730355530375430    FULTON ST    FULTON STREET  2011-01-14  2007-06-15   \n",
       "3  380030331530342730  ST FELIX ST  ST FELIX STREET  2010-01-06  2009-12-18   \n",
       "4  313830335030367730         AV C         AVENUE C  2010-01-04  2009-12-28   \n",
       "\n",
       "   Shape_leng Source                                         SpecLoc  \\\n",
       "0  217.321398    CTZ               SB ON BEDFORD_UNDERNEATH OVERPASS   \n",
       "1  260.495098    CTZ                              I/F/O B16 BUS STOP   \n",
       "2  549.255973    CTZ                 POTHOLE NEAR CURB I/F/O ADDRESS   \n",
       "3  836.436669    CTZ                                         4\" DEEP   \n",
       "4  385.456668    CTZ  ONE POTHOLE I/F/O DRIVE WAY RIGHT OFF THE CURB   \n",
       "\n",
       "           ToPrimName                                           geometry  \n",
       "0        BELT PARKWAY  LINESTRING (999841.5793691427 152521.396450728...  \n",
       "1           39 STREET  LINESTRING (988216.0878563821 172877.916761219...  \n",
       "2  SCHENECTADY AVENUE  LINESTRING (1002314.241746634 186877.218815058...  \n",
       "3       FULTON STREET  LINESTRING (990367.9142613858 190592.204823389...  \n",
       "4       OCEAN PARKWAY  LINESTRING (991183.998259142 172724.2225148082...  "
      ]
     },
     "execution_count": 7,
     "metadata": {},
     "output_type": "execute_result"
    }
   ],
   "source": [
    "# Dataset_2: Importing the Potholes Shape File Data (Sourced from Open Data - refered by Varun)\n",
    "\n",
    "nyc_pthls = gpd.read_file(\"Data/closed-potholes-datafeeds/ClosedPotholes_201608161516.shp\")\n",
    "nyc_pthls.head()"
   ]
  },
  {
   "cell_type": "code",
   "execution_count": 8,
   "metadata": {
    "collapsed": false
   },
   "outputs": [
    {
     "data": {
      "text/html": [
       "<div>\n",
       "<table border=\"1\" class=\"dataframe\">\n",
       "  <thead>\n",
       "    <tr style=\"text-align: right;\">\n",
       "      <th></th>\n",
       "      <th>Boro</th>\n",
       "      <th>DefNum</th>\n",
       "      <th>FrmPrimNam</th>\n",
       "      <th>HouseNum</th>\n",
       "      <th>InitBy</th>\n",
       "      <th>OBJECTID</th>\n",
       "      <th>OFT</th>\n",
       "      <th>OnFaceName</th>\n",
       "      <th>OnPrimName</th>\n",
       "      <th>RptClosed</th>\n",
       "      <th>RptDate</th>\n",
       "      <th>Shape_leng</th>\n",
       "      <th>Source</th>\n",
       "      <th>SpecLoc</th>\n",
       "      <th>ToPrimName</th>\n",
       "      <th>geometry</th>\n",
       "    </tr>\n",
       "  </thead>\n",
       "  <tbody>\n",
       "    <tr>\n",
       "      <th>0</th>\n",
       "      <td>B</td>\n",
       "      <td>DB2004287021</td>\n",
       "      <td>BELT PARKWAY</td>\n",
       "      <td>None</td>\n",
       "      <td>CSC</td>\n",
       "      <td>1</td>\n",
       "      <td>318630377030377030</td>\n",
       "      <td>BEDFORD AV</td>\n",
       "      <td>BEDFORD AVENUE</td>\n",
       "      <td>2013-02-14</td>\n",
       "      <td>2004-10-13</td>\n",
       "      <td>217.321398</td>\n",
       "      <td>CTZ</td>\n",
       "      <td>SB ON BEDFORD_UNDERNEATH OVERPASS</td>\n",
       "      <td>BELT PARKWAY</td>\n",
       "      <td>LINESTRING (-73.94386629059676 40.585298362137...</td>\n",
       "    </tr>\n",
       "    <tr>\n",
       "      <th>1</th>\n",
       "      <td>B</td>\n",
       "      <td>DB2006085009</td>\n",
       "      <td>38 STREET</td>\n",
       "      <td>None</td>\n",
       "      <td>CSC</td>\n",
       "      <td>2</td>\n",
       "      <td>306380308480308530</td>\n",
       "      <td>13 AV</td>\n",
       "      <td>13 AVENUE</td>\n",
       "      <td>2014-10-11</td>\n",
       "      <td>2006-03-26</td>\n",
       "      <td>260.495098</td>\n",
       "      <td>CTZ</td>\n",
       "      <td>I/F/O B16 BUS STOP</td>\n",
       "      <td>39 STREET</td>\n",
       "      <td>LINESTRING (-73.98570910180842 40.641185633551...</td>\n",
       "    </tr>\n",
       "    <tr>\n",
       "      <th>2</th>\n",
       "      <td>B</td>\n",
       "      <td>DB2007166005</td>\n",
       "      <td>LEWIS AVENUE</td>\n",
       "      <td>1688</td>\n",
       "      <td>CSC</td>\n",
       "      <td>3</td>\n",
       "      <td>342730355530375430</td>\n",
       "      <td>FULTON ST</td>\n",
       "      <td>FULTON STREET</td>\n",
       "      <td>2011-01-14</td>\n",
       "      <td>2007-06-15</td>\n",
       "      <td>549.255973</td>\n",
       "      <td>CTZ</td>\n",
       "      <td>POTHOLE NEAR CURB I/F/O ADDRESS</td>\n",
       "      <td>SCHENECTADY AVENUE</td>\n",
       "      <td>LINESTRING (-73.93487210852417 40.679593087752...</td>\n",
       "    </tr>\n",
       "    <tr>\n",
       "      <th>3</th>\n",
       "      <td>B</td>\n",
       "      <td>DB2009352004</td>\n",
       "      <td>DEKALB AVENUE</td>\n",
       "      <td>45</td>\n",
       "      <td>CSC</td>\n",
       "      <td>4</td>\n",
       "      <td>380030331530342730</td>\n",
       "      <td>ST FELIX ST</td>\n",
       "      <td>ST FELIX STREET</td>\n",
       "      <td>2010-01-06</td>\n",
       "      <td>2009-12-18</td>\n",
       "      <td>836.436669</td>\n",
       "      <td>CTZ</td>\n",
       "      <td>4\" DEEP</td>\n",
       "      <td>FULTON STREET</td>\n",
       "      <td>LINESTRING (-73.97793940872548 40.689806193405...</td>\n",
       "    </tr>\n",
       "    <tr>\n",
       "      <th>4</th>\n",
       "      <td>B</td>\n",
       "      <td>DB2009362038</td>\n",
       "      <td>EAST 5 STREET</td>\n",
       "      <td>514</td>\n",
       "      <td>CSC</td>\n",
       "      <td>5</td>\n",
       "      <td>313830335030367730</td>\n",
       "      <td>AV C</td>\n",
       "      <td>AVENUE C</td>\n",
       "      <td>2010-01-04</td>\n",
       "      <td>2009-12-28</td>\n",
       "      <td>385.456668</td>\n",
       "      <td>CTZ</td>\n",
       "      <td>ONE POTHOLE I/F/O DRIVE WAY RIGHT OFF THE CURB</td>\n",
       "      <td>OCEAN PARKWAY</td>\n",
       "      <td>LINESTRING (-73.9750150681262 40.6407619495311...</td>\n",
       "    </tr>\n",
       "  </tbody>\n",
       "</table>\n",
       "</div>"
      ],
      "text/plain": [
       "  Boro        DefNum     FrmPrimNam HouseNum InitBy  OBJECTID  \\\n",
       "0    B  DB2004287021   BELT PARKWAY     None    CSC         1   \n",
       "1    B  DB2006085009      38 STREET     None    CSC         2   \n",
       "2    B  DB2007166005   LEWIS AVENUE     1688    CSC         3   \n",
       "3    B  DB2009352004  DEKALB AVENUE       45    CSC         4   \n",
       "4    B  DB2009362038  EAST 5 STREET      514    CSC         5   \n",
       "\n",
       "                  OFT   OnFaceName       OnPrimName   RptClosed     RptDate  \\\n",
       "0  318630377030377030   BEDFORD AV   BEDFORD AVENUE  2013-02-14  2004-10-13   \n",
       "1  306380308480308530        13 AV        13 AVENUE  2014-10-11  2006-03-26   \n",
       "2  342730355530375430    FULTON ST    FULTON STREET  2011-01-14  2007-06-15   \n",
       "3  380030331530342730  ST FELIX ST  ST FELIX STREET  2010-01-06  2009-12-18   \n",
       "4  313830335030367730         AV C         AVENUE C  2010-01-04  2009-12-28   \n",
       "\n",
       "   Shape_leng Source                                         SpecLoc  \\\n",
       "0  217.321398    CTZ               SB ON BEDFORD_UNDERNEATH OVERPASS   \n",
       "1  260.495098    CTZ                              I/F/O B16 BUS STOP   \n",
       "2  549.255973    CTZ                 POTHOLE NEAR CURB I/F/O ADDRESS   \n",
       "3  836.436669    CTZ                                         4\" DEEP   \n",
       "4  385.456668    CTZ  ONE POTHOLE I/F/O DRIVE WAY RIGHT OFF THE CURB   \n",
       "\n",
       "           ToPrimName                                           geometry  \n",
       "0        BELT PARKWAY  LINESTRING (-73.94386629059676 40.585298362137...  \n",
       "1           39 STREET  LINESTRING (-73.98570910180842 40.641185633551...  \n",
       "2  SCHENECTADY AVENUE  LINESTRING (-73.93487210852417 40.679593087752...  \n",
       "3       FULTON STREET  LINESTRING (-73.97793940872548 40.689806193405...  \n",
       "4       OCEAN PARKWAY  LINESTRING (-73.9750150681262 40.6407619495311...  "
      ]
     },
     "execution_count": 8,
     "metadata": {},
     "output_type": "execute_result"
    }
   ],
   "source": [
    "# Dataset_2: Changing the Co-ordinate system for Uniformity\n",
    "nyc_pthls.crs = from_epsg(2263)\n",
    "nyc_pthls.to_crs(epsg=4326, inplace=True)\n",
    "nyc_pthls.head()"
   ]
  },
  {
   "cell_type": "code",
   "execution_count": 9,
   "metadata": {
    "collapsed": false
   },
   "outputs": [
    {
     "name": "stderr",
     "output_type": "stream",
     "text": [
      "/opt/rh/anaconda/root/envs/PUI2016_Python2/lib/python2.7/site-packages/ipykernel/__main__.py:6: SettingWithCopyWarning: \n",
      "A value is trying to be set on a copy of a slice from a DataFrame\n",
      "\n",
      "See the caveats in the documentation: http://pandas.pydata.org/pandas-docs/stable/indexing.html#indexing-view-versus-copy\n"
     ]
    },
    {
     "data": {
      "text/html": [
       "<div>\n",
       "<table border=\"1\" class=\"dataframe\">\n",
       "  <thead>\n",
       "    <tr style=\"text-align: right;\">\n",
       "      <th></th>\n",
       "      <th>geometry</th>\n",
       "      <th>DefNum</th>\n",
       "    </tr>\n",
       "  </thead>\n",
       "  <tbody>\n",
       "    <tr>\n",
       "      <th>0</th>\n",
       "      <td>LINESTRING (-73.99363904952871 40.727289211243...</td>\n",
       "      <td>DM1995139014</td>\n",
       "    </tr>\n",
       "    <tr>\n",
       "      <th>1</th>\n",
       "      <td>LINESTRING (-73.96091016170175 40.780857035824...</td>\n",
       "      <td>DM1997251001</td>\n",
       "    </tr>\n",
       "    <tr>\n",
       "      <th>2</th>\n",
       "      <td>(LINESTRING (-73.99373479457627 40.72091647931...</td>\n",
       "      <td>DM2009365001</td>\n",
       "    </tr>\n",
       "    <tr>\n",
       "      <th>3</th>\n",
       "      <td>LINESTRING (-73.98085965460861 40.741969767614...</td>\n",
       "      <td>DM2009365002</td>\n",
       "    </tr>\n",
       "    <tr>\n",
       "      <th>4</th>\n",
       "      <td>LINESTRING (-73.99190572913157 40.716203020802...</td>\n",
       "      <td>DM2009365008</td>\n",
       "    </tr>\n",
       "  </tbody>\n",
       "</table>\n",
       "</div>"
      ],
      "text/plain": [
       "                                            geometry        DefNum\n",
       "0  LINESTRING (-73.99363904952871 40.727289211243...  DM1995139014\n",
       "1  LINESTRING (-73.96091016170175 40.780857035824...  DM1997251001\n",
       "2  (LINESTRING (-73.99373479457627 40.72091647931...  DM2009365001\n",
       "3  LINESTRING (-73.98085965460861 40.741969767614...  DM2009365002\n",
       "4  LINESTRING (-73.99190572913157 40.716203020802...  DM2009365008"
      ]
     },
     "execution_count": 9,
     "metadata": {},
     "output_type": "execute_result"
    }
   ],
   "source": [
    "# Dataset_2: Filtering and Cleaning Unnecessary Data\n",
    "\n",
    "# Truncating the initial datset to consider only Manhattan\n",
    "mn_pthls = nyc_pthls[nyc_pthls['Boro'] == 'M']\n",
    "mn_pthls.reset_index(inplace=True)\n",
    "mn_pthls.drop('index', axis=1, inplace=True)\n",
    "mn_pthls = gpd.GeoDataFrame(mn_pthls[['geometry','DefNum']])\n",
    "mn_pthls.head()"
   ]
  },
  {
   "cell_type": "code",
   "execution_count": 10,
   "metadata": {
    "collapsed": false
   },
   "outputs": [
    {
     "data": {
      "text/plain": [
       "{'init': 'epsg:4326', 'no_defs': True}"
      ]
     },
     "execution_count": 10,
     "metadata": {},
     "output_type": "execute_result"
    }
   ],
   "source": [
    "mn_pthls.crs = from_epsg(4326)\n",
    "mn_pthls.crs"
   ]
  },
  {
   "cell_type": "code",
   "execution_count": 11,
   "metadata": {
    "collapsed": false
   },
   "outputs": [
    {
     "data": {
      "text/html": [
       "<div>\n",
       "<table border=\"1\" class=\"dataframe\">\n",
       "  <thead>\n",
       "    <tr style=\"text-align: right;\">\n",
       "      <th></th>\n",
       "      <th>geometry</th>\n",
       "      <th>DefNum</th>\n",
       "    </tr>\n",
       "  </thead>\n",
       "  <tbody>\n",
       "    <tr>\n",
       "      <th>0</th>\n",
       "      <td>LINESTRING (-73.99363904952871 40.727289211243...</td>\n",
       "      <td>DM1995139014</td>\n",
       "    </tr>\n",
       "    <tr>\n",
       "      <th>1</th>\n",
       "      <td>LINESTRING (-73.96091016170175 40.780857035824...</td>\n",
       "      <td>DM1997251001</td>\n",
       "    </tr>\n",
       "    <tr>\n",
       "      <th>2</th>\n",
       "      <td>(LINESTRING (-73.99373479457627 40.72091647931...</td>\n",
       "      <td>DM2009365001</td>\n",
       "    </tr>\n",
       "    <tr>\n",
       "      <th>3</th>\n",
       "      <td>LINESTRING (-73.98085965460861 40.741969767614...</td>\n",
       "      <td>DM2009365002</td>\n",
       "    </tr>\n",
       "    <tr>\n",
       "      <th>4</th>\n",
       "      <td>LINESTRING (-73.99190572913157 40.716203020802...</td>\n",
       "      <td>DM2009365008</td>\n",
       "    </tr>\n",
       "  </tbody>\n",
       "</table>\n",
       "</div>"
      ],
      "text/plain": [
       "                                            geometry        DefNum\n",
       "0  LINESTRING (-73.99363904952871 40.727289211243...  DM1995139014\n",
       "1  LINESTRING (-73.96091016170175 40.780857035824...  DM1997251001\n",
       "2  (LINESTRING (-73.99373479457627 40.72091647931...  DM2009365001\n",
       "3  LINESTRING (-73.98085965460861 40.741969767614...  DM2009365002\n",
       "4  LINESTRING (-73.99190572913157 40.716203020802...  DM2009365008"
      ]
     },
     "execution_count": 11,
     "metadata": {},
     "output_type": "execute_result"
    }
   ],
   "source": [
    "# Dataset_2 : Truncated Version for running the code\n",
    "\n",
    "x_pthls = mn_pthls.loc[:100,:]\n",
    "x_pthls.head()"
   ]
  },
  {
   "cell_type": "code",
   "execution_count": 12,
   "metadata": {
    "collapsed": false,
    "scrolled": false
   },
   "outputs": [
    {
     "data": {
      "text/html": [
       "<div>\n",
       "<table border=\"1\" class=\"dataframe\">\n",
       "  <thead>\n",
       "    <tr style=\"text-align: right;\">\n",
       "      <th></th>\n",
       "      <th>geometry</th>\n",
       "      <th>Potholes</th>\n",
       "    </tr>\n",
       "  </thead>\n",
       "  <tbody>\n",
       "    <tr>\n",
       "      <th>0</th>\n",
       "      <td>LINESTRING (-73.94832657203315 40.808972274104...</td>\n",
       "      <td>2</td>\n",
       "    </tr>\n",
       "    <tr>\n",
       "      <th>1</th>\n",
       "      <td>LINESTRING (-73.95918180056893 40.771696823367...</td>\n",
       "      <td>2</td>\n",
       "    </tr>\n",
       "    <tr>\n",
       "      <th>2</th>\n",
       "      <td>LINESTRING (-73.94226311105818 40.806415737867...</td>\n",
       "      <td>2</td>\n",
       "    </tr>\n",
       "    <tr>\n",
       "      <th>3</th>\n",
       "      <td>LINESTRING (-73.94711812794634 40.771712791877...</td>\n",
       "      <td>2</td>\n",
       "    </tr>\n",
       "    <tr>\n",
       "      <th>4</th>\n",
       "      <td>LINESTRING (-73.96297460261326 40.762487076337...</td>\n",
       "      <td>2</td>\n",
       "    </tr>\n",
       "  </tbody>\n",
       "</table>\n",
       "</div>"
      ],
      "text/plain": [
       "                                            geometry  Potholes\n",
       "0  LINESTRING (-73.94832657203315 40.808972274104...         2\n",
       "1  LINESTRING (-73.95918180056893 40.771696823367...         2\n",
       "2  LINESTRING (-73.94226311105818 40.806415737867...         2\n",
       "3  LINESTRING (-73.94711812794634 40.771712791877...         2\n",
       "4  LINESTRING (-73.96297460261326 40.762487076337...         2"
      ]
     },
     "execution_count": 12,
     "metadata": {},
     "output_type": "execute_result"
    }
   ],
   "source": [
    "# Dataset_2: Trying to group the No: of Potholes per Linestring\n",
    "\n",
    "x_pthls_count = gpd.GeoDataFrame(x_pthls.geometry.value_counts())\n",
    "x_pthls_count.reset_index(inplace=True)\n",
    "x_pthls_count.columns = ['geometry','Potholes']\n",
    "x_pthls_count.head()"
   ]
  },
  {
   "cell_type": "code",
   "execution_count": 13,
   "metadata": {
    "collapsed": false
   },
   "outputs": [
    {
     "data": {
      "text/html": [
       "<div>\n",
       "<table border=\"1\" class=\"dataframe\">\n",
       "  <thead>\n",
       "    <tr style=\"text-align: right;\">\n",
       "      <th></th>\n",
       "      <th>geometry</th>\n",
       "      <th>Potholes</th>\n",
       "    </tr>\n",
       "  </thead>\n",
       "  <tbody>\n",
       "    <tr>\n",
       "      <th>0</th>\n",
       "      <td>LINESTRING (-73.94832657203315 40.808972274104...</td>\n",
       "      <td>2</td>\n",
       "    </tr>\n",
       "    <tr>\n",
       "      <th>1</th>\n",
       "      <td>LINESTRING (-73.95918180056893 40.771696823367...</td>\n",
       "      <td>2</td>\n",
       "    </tr>\n",
       "    <tr>\n",
       "      <th>2</th>\n",
       "      <td>LINESTRING (-73.94226311105818 40.806415737867...</td>\n",
       "      <td>2</td>\n",
       "    </tr>\n",
       "    <tr>\n",
       "      <th>3</th>\n",
       "      <td>LINESTRING (-73.94711812794634 40.771712791877...</td>\n",
       "      <td>2</td>\n",
       "    </tr>\n",
       "    <tr>\n",
       "      <th>4</th>\n",
       "      <td>LINESTRING (-73.96297460261326 40.762487076337...</td>\n",
       "      <td>2</td>\n",
       "    </tr>\n",
       "  </tbody>\n",
       "</table>\n",
       "</div>"
      ],
      "text/plain": [
       "                                            geometry  Potholes\n",
       "0  LINESTRING (-73.94832657203315 40.808972274104...         2\n",
       "1  LINESTRING (-73.95918180056893 40.771696823367...         2\n",
       "2  LINESTRING (-73.94226311105818 40.806415737867...         2\n",
       "3  LINESTRING (-73.94711812794634 40.771712791877...         2\n",
       "4  LINESTRING (-73.96297460261326 40.762487076337...         2"
      ]
     },
     "execution_count": 13,
     "metadata": {},
     "output_type": "execute_result"
    }
   ],
   "source": [
    "# Dataset_2: Changing the Co-ordinate system for Uniformity\n",
    "x_pthls_count.crs = from_epsg(4326)\n",
    "x_pthls_count.head()"
   ]
  },
  {
   "cell_type": "code",
   "execution_count": null,
   "metadata": {
    "collapsed": true
   },
   "outputs": [],
   "source": []
  },
  {
   "cell_type": "code",
   "execution_count": 14,
   "metadata": {
    "collapsed": false
   },
   "outputs": [
    {
     "data": {
      "text/html": [
       "<div>\n",
       "<table border=\"1\" class=\"dataframe\">\n",
       "  <thead>\n",
       "    <tr style=\"text-align: right;\">\n",
       "      <th></th>\n",
       "      <th>AADT</th>\n",
       "      <th>ROADWAYTYP</th>\n",
       "      <th>Shape_Leng</th>\n",
       "      <th>geometry</th>\n",
       "    </tr>\n",
       "  </thead>\n",
       "  <tbody>\n",
       "    <tr>\n",
       "      <th>0</th>\n",
       "      <td>6052.0</td>\n",
       "      <td>Road</td>\n",
       "      <td>1166.162041</td>\n",
       "      <td>LINESTRING (-73.85312405872757 40.894913023868...</td>\n",
       "    </tr>\n",
       "    <tr>\n",
       "      <th>1</th>\n",
       "      <td>10157.0</td>\n",
       "      <td>Road</td>\n",
       "      <td>5308.008397</td>\n",
       "      <td>LINESTRING (-73.86787494280257 40.858515042894...</td>\n",
       "    </tr>\n",
       "    <tr>\n",
       "      <th>2</th>\n",
       "      <td>24026.0</td>\n",
       "      <td>Road</td>\n",
       "      <td>627.653516</td>\n",
       "      <td>LINESTRING (-73.86787601871585 40.850005988139...</td>\n",
       "    </tr>\n",
       "    <tr>\n",
       "      <th>3</th>\n",
       "      <td>4125.0</td>\n",
       "      <td>Road</td>\n",
       "      <td>658.237350</td>\n",
       "      <td>LINESTRING (-73.86076395786807 40.866725988183...</td>\n",
       "    </tr>\n",
       "    <tr>\n",
       "      <th>4</th>\n",
       "      <td>7710.0</td>\n",
       "      <td>Road</td>\n",
       "      <td>885.373971</td>\n",
       "      <td>LINESTRING (-73.93014202869557 40.819212013064...</td>\n",
       "    </tr>\n",
       "  </tbody>\n",
       "</table>\n",
       "</div>"
      ],
      "text/plain": [
       "      AADT ROADWAYTYP   Shape_Leng  \\\n",
       "0   6052.0       Road  1166.162041   \n",
       "1  10157.0       Road  5308.008397   \n",
       "2  24026.0       Road   627.653516   \n",
       "3   4125.0       Road   658.237350   \n",
       "4   7710.0       Road   885.373971   \n",
       "\n",
       "                                            geometry  \n",
       "0  LINESTRING (-73.85312405872757 40.894913023868...  \n",
       "1  LINESTRING (-73.86787494280257 40.858515042894...  \n",
       "2  LINESTRING (-73.86787601871585 40.850005988139...  \n",
       "3  LINESTRING (-73.86076395786807 40.866725988183...  \n",
       "4  LINESTRING (-73.93014202869557 40.819212013064...  "
      ]
     },
     "execution_count": 14,
     "metadata": {},
     "output_type": "execute_result"
    }
   ],
   "source": [
    "# Dataset_3 : Traffic Volume (Sourced from Open Data - AD)\n",
    "\n",
    "# Cleaned in Local System due to compute errors and uploaded clean data here\n",
    "nyc_traf_vol = gpd.read_file('Data/Traffic_Volume/Traffic_Volume.shp')\n",
    "nyc_traf_vol.head()"
   ]
  },
  {
   "cell_type": "code",
   "execution_count": 15,
   "metadata": {
    "collapsed": false
   },
   "outputs": [
    {
     "data": {
      "text/html": [
       "<div>\n",
       "<table border=\"1\" class=\"dataframe\">\n",
       "  <thead>\n",
       "    <tr style=\"text-align: right;\">\n",
       "      <th></th>\n",
       "      <th>geometry</th>\n",
       "      <th>Traf_Vol_3</th>\n",
       "      <th>Shape_Length_3</th>\n",
       "    </tr>\n",
       "  </thead>\n",
       "  <tbody>\n",
       "    <tr>\n",
       "      <th>0</th>\n",
       "      <td>LINESTRING (-73.85312405872757 40.894913023868...</td>\n",
       "      <td>6052.0</td>\n",
       "      <td>1166.162041</td>\n",
       "    </tr>\n",
       "    <tr>\n",
       "      <th>1</th>\n",
       "      <td>LINESTRING (-73.86787494280257 40.858515042894...</td>\n",
       "      <td>10157.0</td>\n",
       "      <td>5308.008397</td>\n",
       "    </tr>\n",
       "    <tr>\n",
       "      <th>2</th>\n",
       "      <td>LINESTRING (-73.86787601871585 40.850005988139...</td>\n",
       "      <td>24026.0</td>\n",
       "      <td>627.653516</td>\n",
       "    </tr>\n",
       "    <tr>\n",
       "      <th>3</th>\n",
       "      <td>LINESTRING (-73.86076395786807 40.866725988183...</td>\n",
       "      <td>4125.0</td>\n",
       "      <td>658.237350</td>\n",
       "    </tr>\n",
       "    <tr>\n",
       "      <th>4</th>\n",
       "      <td>LINESTRING (-73.93014202869557 40.819212013064...</td>\n",
       "      <td>7710.0</td>\n",
       "      <td>885.373971</td>\n",
       "    </tr>\n",
       "  </tbody>\n",
       "</table>\n",
       "</div>"
      ],
      "text/plain": [
       "                                            geometry  Traf_Vol_3  \\\n",
       "0  LINESTRING (-73.85312405872757 40.894913023868...      6052.0   \n",
       "1  LINESTRING (-73.86787494280257 40.858515042894...     10157.0   \n",
       "2  LINESTRING (-73.86787601871585 40.850005988139...     24026.0   \n",
       "3  LINESTRING (-73.86076395786807 40.866725988183...      4125.0   \n",
       "4  LINESTRING (-73.93014202869557 40.819212013064...      7710.0   \n",
       "\n",
       "   Shape_Length_3  \n",
       "0     1166.162041  \n",
       "1     5308.008397  \n",
       "2      627.653516  \n",
       "3      658.237350  \n",
       "4      885.373971  "
      ]
     },
     "execution_count": 15,
     "metadata": {},
     "output_type": "execute_result"
    }
   ],
   "source": [
    "# Dataset_3 : Rearranging the dataset and Filtering for convenience\n",
    "\n",
    "nyc_traf_vol = nyc_traf_vol[['geometry', 'AADT', 'Shape_Leng']]\n",
    "nyc_traf_vol.columns = ['geometry', 'Traf_Vol_3', 'Shape_Length_3']\n",
    "nyc_traf_vol.head()"
   ]
  },
  {
   "cell_type": "code",
   "execution_count": 16,
   "metadata": {
    "collapsed": false
   },
   "outputs": [
    {
     "data": {
      "text/html": [
       "<div>\n",
       "<table border=\"1\" class=\"dataframe\">\n",
       "  <thead>\n",
       "    <tr style=\"text-align: right;\">\n",
       "      <th></th>\n",
       "      <th>geometry</th>\n",
       "      <th>Traf_Vol_3</th>\n",
       "      <th>Shape_Length_3</th>\n",
       "    </tr>\n",
       "  </thead>\n",
       "  <tbody>\n",
       "    <tr>\n",
       "      <th>0</th>\n",
       "      <td>LINESTRING (-73.85312405872757 40.894913023868...</td>\n",
       "      <td>6052.0</td>\n",
       "      <td>1166.162041</td>\n",
       "    </tr>\n",
       "    <tr>\n",
       "      <th>1</th>\n",
       "      <td>LINESTRING (-73.86787494280257 40.858515042894...</td>\n",
       "      <td>10157.0</td>\n",
       "      <td>5308.008397</td>\n",
       "    </tr>\n",
       "    <tr>\n",
       "      <th>2</th>\n",
       "      <td>LINESTRING (-73.86787601871585 40.850005988139...</td>\n",
       "      <td>24026.0</td>\n",
       "      <td>627.653516</td>\n",
       "    </tr>\n",
       "    <tr>\n",
       "      <th>3</th>\n",
       "      <td>LINESTRING (-73.86076395786807 40.866725988183...</td>\n",
       "      <td>4125.0</td>\n",
       "      <td>658.237350</td>\n",
       "    </tr>\n",
       "    <tr>\n",
       "      <th>4</th>\n",
       "      <td>LINESTRING (-73.93014202869557 40.819212013064...</td>\n",
       "      <td>7710.0</td>\n",
       "      <td>885.373971</td>\n",
       "    </tr>\n",
       "  </tbody>\n",
       "</table>\n",
       "</div>"
      ],
      "text/plain": [
       "                                            geometry  Traf_Vol_3  \\\n",
       "0  LINESTRING (-73.85312405872757 40.894913023868...      6052.0   \n",
       "1  LINESTRING (-73.86787494280257 40.858515042894...     10157.0   \n",
       "2  LINESTRING (-73.86787601871585 40.850005988139...     24026.0   \n",
       "3  LINESTRING (-73.86076395786807 40.866725988183...      4125.0   \n",
       "4  LINESTRING (-73.93014202869557 40.819212013064...      7710.0   \n",
       "\n",
       "   Shape_Length_3  \n",
       "0     1166.162041  \n",
       "1     5308.008397  \n",
       "2      627.653516  \n",
       "3      658.237350  \n",
       "4      885.373971  "
      ]
     },
     "execution_count": 16,
     "metadata": {},
     "output_type": "execute_result"
    }
   ],
   "source": [
    "# Dataset_3 :  Changing the Co-ordinate system for Uniformity\n",
    "nyc_traf_vol.crs = from_epsg(4326)\n",
    "nyc_traf_vol.head()"
   ]
  },
  {
   "cell_type": "code",
   "execution_count": 17,
   "metadata": {
    "collapsed": false
   },
   "outputs": [
    {
     "data": {
      "text/html": [
       "<div>\n",
       "<table border=\"1\" class=\"dataframe\">\n",
       "  <thead>\n",
       "    <tr style=\"text-align: right;\">\n",
       "      <th></th>\n",
       "      <th>box_id</th>\n",
       "      <th>geometry</th>\n",
       "      <th>name</th>\n",
       "      <th>zip_name</th>\n",
       "    </tr>\n",
       "  </thead>\n",
       "  <tbody>\n",
       "    <tr>\n",
       "      <th>0</th>\n",
       "      <td>100646</td>\n",
       "      <td>POINT (-73.878334 40.84256)</td>\n",
       "      <td>BOSTON RD/E 180 ST</td>\n",
       "      <td>2016Jan_Prod_r03_b6</td>\n",
       "    </tr>\n",
       "    <tr>\n",
       "      <th>1</th>\n",
       "      <td>103374</td>\n",
       "      <td>POINT (-73.840965 40.828102)</td>\n",
       "      <td>BRUSH AV/BRUCKNER BL</td>\n",
       "      <td>2016Jan_Prod_r03_b6</td>\n",
       "    </tr>\n",
       "    <tr>\n",
       "      <th>2</th>\n",
       "      <td>103379</td>\n",
       "      <td>POINT (-73.856995 40.8325)</td>\n",
       "      <td>CROSS BX SVC RD/NEWBOLD AV</td>\n",
       "      <td>2016Jan_Prod_r03_b6</td>\n",
       "    </tr>\n",
       "    <tr>\n",
       "      <th>3</th>\n",
       "      <td>103380</td>\n",
       "      <td>POINT (-73.866432 40.835388)</td>\n",
       "      <td>CROSS BX SVC RD/TAYLOR AV</td>\n",
       "      <td>2016Jan_Prod_r03_b6</td>\n",
       "    </tr>\n",
       "    <tr>\n",
       "      <th>4</th>\n",
       "      <td>103381</td>\n",
       "      <td>POINT (-73.870407 40.836433)</td>\n",
       "      <td>CROSS BX SVC RD/COMMONWEALTH AV</td>\n",
       "      <td>2016Jan_Prod_r03_b6</td>\n",
       "    </tr>\n",
       "  </tbody>\n",
       "</table>\n",
       "</div>"
      ],
      "text/plain": [
       "   box_id                      geometry                             name  \\\n",
       "0  100646   POINT (-73.878334 40.84256)               BOSTON RD/E 180 ST   \n",
       "1  103374  POINT (-73.840965 40.828102)             BRUSH AV/BRUCKNER BL   \n",
       "2  103379    POINT (-73.856995 40.8325)       CROSS BX SVC RD/NEWBOLD AV   \n",
       "3  103380  POINT (-73.866432 40.835388)        CROSS BX SVC RD/TAYLOR AV   \n",
       "4  103381  POINT (-73.870407 40.836433)  CROSS BX SVC RD/COMMONWEALTH AV   \n",
       "\n",
       "              zip_name  \n",
       "0  2016Jan_Prod_r03_b6  \n",
       "1  2016Jan_Prod_r03_b6  \n",
       "2  2016Jan_Prod_r03_b6  \n",
       "3  2016Jan_Prod_r03_b6  \n",
       "4  2016Jan_Prod_r03_b6  "
      ]
     },
     "execution_count": 17,
     "metadata": {},
     "output_type": "execute_result"
    }
   ],
   "source": [
    "# Dataset_4 : MTA Bus Stops (Sourced from Open Data - VI)\n",
    "\n",
    "nyc_busstops = gpd.read_file('Data/Bus_Shapefiles/BusStopsAsOfMarch2.shp')\n",
    "nyc_busstops.head()"
   ]
  },
  {
   "cell_type": "code",
   "execution_count": 18,
   "metadata": {
    "collapsed": false
   },
   "outputs": [
    {
     "data": {
      "text/html": [
       "<div>\n",
       "<table border=\"1\" class=\"dataframe\">\n",
       "  <thead>\n",
       "    <tr style=\"text-align: right;\">\n",
       "      <th></th>\n",
       "      <th>geometry</th>\n",
       "      <th>box_id</th>\n",
       "    </tr>\n",
       "  </thead>\n",
       "  <tbody>\n",
       "    <tr>\n",
       "      <th>0</th>\n",
       "      <td>POINT (-73.878334 40.84256)</td>\n",
       "      <td>100646</td>\n",
       "    </tr>\n",
       "    <tr>\n",
       "      <th>1</th>\n",
       "      <td>POINT (-73.840965 40.828102)</td>\n",
       "      <td>103374</td>\n",
       "    </tr>\n",
       "    <tr>\n",
       "      <th>2</th>\n",
       "      <td>POINT (-73.856995 40.8325)</td>\n",
       "      <td>103379</td>\n",
       "    </tr>\n",
       "    <tr>\n",
       "      <th>3</th>\n",
       "      <td>POINT (-73.866432 40.835388)</td>\n",
       "      <td>103380</td>\n",
       "    </tr>\n",
       "    <tr>\n",
       "      <th>4</th>\n",
       "      <td>POINT (-73.870407 40.836433)</td>\n",
       "      <td>103381</td>\n",
       "    </tr>\n",
       "  </tbody>\n",
       "</table>\n",
       "</div>"
      ],
      "text/plain": [
       "                       geometry  box_id\n",
       "0   POINT (-73.878334 40.84256)  100646\n",
       "1  POINT (-73.840965 40.828102)  103374\n",
       "2    POINT (-73.856995 40.8325)  103379\n",
       "3  POINT (-73.866432 40.835388)  103380\n",
       "4  POINT (-73.870407 40.836433)  103381"
      ]
     },
     "execution_count": 18,
     "metadata": {},
     "output_type": "execute_result"
    }
   ],
   "source": [
    "# Dataset_4 : Filtering and Cleaning Unnecessary Data\n",
    "\n",
    "nyc_busstops = nyc_busstops[['geometry','box_id']]\n",
    "nyc_busstops.head()"
   ]
  },
  {
   "cell_type": "code",
   "execution_count": 19,
   "metadata": {
    "collapsed": false
   },
   "outputs": [
    {
     "data": {
      "text/plain": [
       "{'init': u'epsg:4326'}"
      ]
     },
     "execution_count": 19,
     "metadata": {},
     "output_type": "execute_result"
    }
   ],
   "source": [
    "#Dataset_4 : Checking the Coordinate System\n",
    "nyc_busstops.crs"
   ]
  },
  {
   "cell_type": "code",
   "execution_count": null,
   "metadata": {
    "collapsed": true
   },
   "outputs": [],
   "source": []
  },
  {
   "cell_type": "code",
   "execution_count": 20,
   "metadata": {
    "collapsed": false
   },
   "outputs": [
    {
     "data": {
      "text/html": [
       "<div>\n",
       "<table border=\"1\" class=\"dataframe\">\n",
       "  <thead>\n",
       "    <tr style=\"text-align: right;\">\n",
       "      <th></th>\n",
       "      <th>AREA</th>\n",
       "      <th>BLDGZIP</th>\n",
       "      <th>COUNTY</th>\n",
       "      <th>CTY_FIPS</th>\n",
       "      <th>POPULATION</th>\n",
       "      <th>PO_NAME</th>\n",
       "      <th>SHAPE_AREA</th>\n",
       "      <th>SHAPE_LEN</th>\n",
       "      <th>STATE</th>\n",
       "      <th>ST_FIPS</th>\n",
       "      <th>URL</th>\n",
       "      <th>ZIPCODE</th>\n",
       "      <th>geometry</th>\n",
       "    </tr>\n",
       "  </thead>\n",
       "  <tbody>\n",
       "    <tr>\n",
       "      <th>0</th>\n",
       "      <td>2.269930e+07</td>\n",
       "      <td>0</td>\n",
       "      <td>Queens</td>\n",
       "      <td>081</td>\n",
       "      <td>18681.0</td>\n",
       "      <td>Jamaica</td>\n",
       "      <td>0.0</td>\n",
       "      <td>0.0</td>\n",
       "      <td>NY</td>\n",
       "      <td>36</td>\n",
       "      <td>http://www.usps.com/</td>\n",
       "      <td>11436</td>\n",
       "      <td>POLYGON ((1038098.251871482 188138.3800067157,...</td>\n",
       "    </tr>\n",
       "    <tr>\n",
       "      <th>1</th>\n",
       "      <td>2.963100e+07</td>\n",
       "      <td>0</td>\n",
       "      <td>Kings</td>\n",
       "      <td>047</td>\n",
       "      <td>62426.0</td>\n",
       "      <td>Brooklyn</td>\n",
       "      <td>0.0</td>\n",
       "      <td>0.0</td>\n",
       "      <td>NY</td>\n",
       "      <td>36</td>\n",
       "      <td>http://www.usps.com/</td>\n",
       "      <td>11213</td>\n",
       "      <td>POLYGON ((1001613.712964058 186926.4395172149,...</td>\n",
       "    </tr>\n",
       "    <tr>\n",
       "      <th>2</th>\n",
       "      <td>4.197210e+07</td>\n",
       "      <td>0</td>\n",
       "      <td>Kings</td>\n",
       "      <td>047</td>\n",
       "      <td>83866.0</td>\n",
       "      <td>Brooklyn</td>\n",
       "      <td>0.0</td>\n",
       "      <td>0.0</td>\n",
       "      <td>NY</td>\n",
       "      <td>36</td>\n",
       "      <td>http://www.usps.com/</td>\n",
       "      <td>11212</td>\n",
       "      <td>POLYGON ((1011174.275535807 183696.33770971, 1...</td>\n",
       "    </tr>\n",
       "    <tr>\n",
       "      <th>3</th>\n",
       "      <td>2.369863e+07</td>\n",
       "      <td>0</td>\n",
       "      <td>Kings</td>\n",
       "      <td>047</td>\n",
       "      <td>56527.0</td>\n",
       "      <td>Brooklyn</td>\n",
       "      <td>0.0</td>\n",
       "      <td>0.0</td>\n",
       "      <td>NY</td>\n",
       "      <td>36</td>\n",
       "      <td>http://www.usps.com/</td>\n",
       "      <td>11225</td>\n",
       "      <td>POLYGON ((995908.3654508889 183617.6128015518,...</td>\n",
       "    </tr>\n",
       "    <tr>\n",
       "      <th>4</th>\n",
       "      <td>3.686880e+07</td>\n",
       "      <td>0</td>\n",
       "      <td>Kings</td>\n",
       "      <td>047</td>\n",
       "      <td>72280.0</td>\n",
       "      <td>Brooklyn</td>\n",
       "      <td>0.0</td>\n",
       "      <td>0.0</td>\n",
       "      <td>NY</td>\n",
       "      <td>36</td>\n",
       "      <td>http://www.usps.com/</td>\n",
       "      <td>11218</td>\n",
       "      <td>POLYGON ((991997.1134308875 176307.4958601296,...</td>\n",
       "    </tr>\n",
       "  </tbody>\n",
       "</table>\n",
       "</div>"
      ],
      "text/plain": [
       "           AREA BLDGZIP  COUNTY CTY_FIPS  POPULATION   PO_NAME  SHAPE_AREA  \\\n",
       "0  2.269930e+07       0  Queens      081     18681.0   Jamaica         0.0   \n",
       "1  2.963100e+07       0   Kings      047     62426.0  Brooklyn         0.0   \n",
       "2  4.197210e+07       0   Kings      047     83866.0  Brooklyn         0.0   \n",
       "3  2.369863e+07       0   Kings      047     56527.0  Brooklyn         0.0   \n",
       "4  3.686880e+07       0   Kings      047     72280.0  Brooklyn         0.0   \n",
       "\n",
       "   SHAPE_LEN STATE ST_FIPS                   URL ZIPCODE  \\\n",
       "0        0.0    NY      36  http://www.usps.com/   11436   \n",
       "1        0.0    NY      36  http://www.usps.com/   11213   \n",
       "2        0.0    NY      36  http://www.usps.com/   11212   \n",
       "3        0.0    NY      36  http://www.usps.com/   11225   \n",
       "4        0.0    NY      36  http://www.usps.com/   11218   \n",
       "\n",
       "                                            geometry  \n",
       "0  POLYGON ((1038098.251871482 188138.3800067157,...  \n",
       "1  POLYGON ((1001613.712964058 186926.4395172149,...  \n",
       "2  POLYGON ((1011174.275535807 183696.33770971, 1...  \n",
       "3  POLYGON ((995908.3654508889 183617.6128015518,...  \n",
       "4  POLYGON ((991997.1134308875 176307.4958601296,...  "
      ]
     },
     "execution_count": 20,
     "metadata": {},
     "output_type": "execute_result"
    }
   ],
   "source": [
    "# Dataset_5: Zip Code Level Data (Sourced from Open Data - VI)\n",
    "\n",
    "nyc_zips = gpd.read_file('Data/ZIP_CODE_040114/ZIP_CODE_040114.shp')\n",
    "nyc_zips.head()"
   ]
  },
  {
   "cell_type": "code",
   "execution_count": 21,
   "metadata": {
    "collapsed": false
   },
   "outputs": [
    {
     "data": {
      "text/html": [
       "<div>\n",
       "<table border=\"1\" class=\"dataframe\">\n",
       "  <thead>\n",
       "    <tr style=\"text-align: right;\">\n",
       "      <th></th>\n",
       "      <th>geometry</th>\n",
       "      <th>ZIPCODE</th>\n",
       "    </tr>\n",
       "  </thead>\n",
       "  <tbody>\n",
       "    <tr>\n",
       "      <th>0</th>\n",
       "      <td>POLYGON ((1038098.251871482 188138.3800067157,...</td>\n",
       "      <td>11436</td>\n",
       "    </tr>\n",
       "    <tr>\n",
       "      <th>1</th>\n",
       "      <td>POLYGON ((1001613.712964058 186926.4395172149,...</td>\n",
       "      <td>11213</td>\n",
       "    </tr>\n",
       "    <tr>\n",
       "      <th>2</th>\n",
       "      <td>POLYGON ((1011174.275535807 183696.33770971, 1...</td>\n",
       "      <td>11212</td>\n",
       "    </tr>\n",
       "    <tr>\n",
       "      <th>3</th>\n",
       "      <td>POLYGON ((995908.3654508889 183617.6128015518,...</td>\n",
       "      <td>11225</td>\n",
       "    </tr>\n",
       "    <tr>\n",
       "      <th>4</th>\n",
       "      <td>POLYGON ((991997.1134308875 176307.4958601296,...</td>\n",
       "      <td>11218</td>\n",
       "    </tr>\n",
       "  </tbody>\n",
       "</table>\n",
       "</div>"
      ],
      "text/plain": [
       "                                            geometry ZIPCODE\n",
       "0  POLYGON ((1038098.251871482 188138.3800067157,...   11436\n",
       "1  POLYGON ((1001613.712964058 186926.4395172149,...   11213\n",
       "2  POLYGON ((1011174.275535807 183696.33770971, 1...   11212\n",
       "3  POLYGON ((995908.3654508889 183617.6128015518,...   11225\n",
       "4  POLYGON ((991997.1134308875 176307.4958601296,...   11218"
      ]
     },
     "execution_count": 21,
     "metadata": {},
     "output_type": "execute_result"
    }
   ],
   "source": [
    "# Dataset_5 : Filtering and Cleaning Unnecessary Data\n",
    "nyc_zips = nyc_zips[['geometry', 'ZIPCODE']]\n",
    "nyc_zips.head()"
   ]
  },
  {
   "cell_type": "code",
   "execution_count": 22,
   "metadata": {
    "collapsed": false
   },
   "outputs": [
    {
     "data": {
      "text/html": [
       "<div>\n",
       "<table border=\"1\" class=\"dataframe\">\n",
       "  <thead>\n",
       "    <tr style=\"text-align: right;\">\n",
       "      <th></th>\n",
       "      <th>geometry</th>\n",
       "      <th>ZIPCODE</th>\n",
       "    </tr>\n",
       "  </thead>\n",
       "  <tbody>\n",
       "    <tr>\n",
       "      <th>0</th>\n",
       "      <td>POLYGON ((-73.80584847647394 40.68290932644246...</td>\n",
       "      <td>11436</td>\n",
       "    </tr>\n",
       "    <tr>\n",
       "      <th>1</th>\n",
       "      <td>POLYGON ((-73.93739763139813 40.6797295892508,...</td>\n",
       "      <td>11213</td>\n",
       "    </tr>\n",
       "    <tr>\n",
       "      <th>2</th>\n",
       "      <td>POLYGON ((-73.90294132545438 40.67083977590007...</td>\n",
       "      <td>11212</td>\n",
       "    </tr>\n",
       "    <tr>\n",
       "      <th>3</th>\n",
       "      <td>POLYGON ((-73.95797316043482 40.67065695897565...</td>\n",
       "      <td>11225</td>\n",
       "    </tr>\n",
       "    <tr>\n",
       "      <th>4</th>\n",
       "      <td>POLYGON ((-73.97208109564257 40.65059658727609...</td>\n",
       "      <td>11218</td>\n",
       "    </tr>\n",
       "  </tbody>\n",
       "</table>\n",
       "</div>"
      ],
      "text/plain": [
       "                                            geometry ZIPCODE\n",
       "0  POLYGON ((-73.80584847647394 40.68290932644246...   11436\n",
       "1  POLYGON ((-73.93739763139813 40.6797295892508,...   11213\n",
       "2  POLYGON ((-73.90294132545438 40.67083977590007...   11212\n",
       "3  POLYGON ((-73.95797316043482 40.67065695897565...   11225\n",
       "4  POLYGON ((-73.97208109564257 40.65059658727609...   11218"
      ]
     },
     "execution_count": 22,
     "metadata": {},
     "output_type": "execute_result"
    }
   ],
   "source": [
    "# Dataset_5 :  Changing the Co-ordinate system for Uniformity\n",
    "nyc_zips.crs = from_epsg(2263)\n",
    "nyc_zips.to_crs(epsg=4326, inplace=True)\n",
    "nyc_zips.head()"
   ]
  },
  {
   "cell_type": "code",
   "execution_count": 23,
   "metadata": {
    "collapsed": false
   },
   "outputs": [
    {
     "data": {
      "text/plain": [
       "{'init': 'epsg:4326', 'no_defs': True}"
      ]
     },
     "execution_count": 23,
     "metadata": {},
     "output_type": "execute_result"
    }
   ],
   "source": [
    "nyc_zips.crs"
   ]
  },
  {
   "cell_type": "code",
   "execution_count": null,
   "metadata": {
    "collapsed": true
   },
   "outputs": [],
   "source": []
  },
  {
   "cell_type": "markdown",
   "metadata": {},
   "source": [
    "# Selecting the Data for ZIP Code 10036"
   ]
  },
  {
   "cell_type": "markdown",
   "metadata": {},
   "source": [
    "#### Explanation:\n",
    "\n",
    "Since the Datasets are huge and need a lot of computation power, I am trying to analyse the data for one ZIP code so that\n",
    "I can extrapolate this framework of analysis to other zipcodes at a later point of time."
   ]
  },
  {
   "cell_type": "code",
   "execution_count": 24,
   "metadata": {
    "collapsed": false
   },
   "outputs": [
    {
     "data": {
      "text/html": [
       "<div>\n",
       "<table border=\"1\" class=\"dataframe\">\n",
       "  <thead>\n",
       "    <tr style=\"text-align: right;\">\n",
       "      <th></th>\n",
       "      <th>geometry</th>\n",
       "      <th>Street_width_1</th>\n",
       "      <th>Shape_length_1</th>\n",
       "      <th>bike_lane_1</th>\n",
       "      <th>ZIPCODE</th>\n",
       "    </tr>\n",
       "  </thead>\n",
       "  <tbody>\n",
       "    <tr>\n",
       "      <th>0</th>\n",
       "      <td>LINESTRING (-74.0082589089775 40.7446738428873...</td>\n",
       "      <td>44.0</td>\n",
       "      <td>54.871697</td>\n",
       "      <td>4</td>\n",
       "      <td>10011</td>\n",
       "    </tr>\n",
       "    <tr>\n",
       "      <th>13</th>\n",
       "      <td>LINESTRING (-73.99918595445679 40.734138581908...</td>\n",
       "      <td>24.0</td>\n",
       "      <td>131.873912</td>\n",
       "      <td>2</td>\n",
       "      <td>10011</td>\n",
       "    </tr>\n",
       "    <tr>\n",
       "      <th>51</th>\n",
       "      <td>LINESTRING (-74.00416830678425 40.747689292336...</td>\n",
       "      <td>52.0</td>\n",
       "      <td>179.942626</td>\n",
       "      <td>None</td>\n",
       "      <td>10011</td>\n",
       "    </tr>\n",
       "    <tr>\n",
       "      <th>78</th>\n",
       "      <td>LINESTRING (-73.99663935985464 40.731856258345...</td>\n",
       "      <td>40.0</td>\n",
       "      <td>164.969509</td>\n",
       "      <td>2</td>\n",
       "      <td>10011</td>\n",
       "    </tr>\n",
       "    <tr>\n",
       "      <th>233</th>\n",
       "      <td>LINESTRING (-74.00252381482822 40.739752643139...</td>\n",
       "      <td>68.0</td>\n",
       "      <td>288.100357</td>\n",
       "      <td>1</td>\n",
       "      <td>10011</td>\n",
       "    </tr>\n",
       "  </tbody>\n",
       "</table>\n",
       "</div>"
      ],
      "text/plain": [
       "                                              geometry  Street_width_1  \\\n",
       "0    LINESTRING (-74.0082589089775 40.7446738428873...            44.0   \n",
       "13   LINESTRING (-73.99918595445679 40.734138581908...            24.0   \n",
       "51   LINESTRING (-74.00416830678425 40.747689292336...            52.0   \n",
       "78   LINESTRING (-73.99663935985464 40.731856258345...            40.0   \n",
       "233  LINESTRING (-74.00252381482822 40.739752643139...            68.0   \n",
       "\n",
       "     Shape_length_1 bike_lane_1 ZIPCODE  \n",
       "0         54.871697           4   10011  \n",
       "13       131.873912           2   10011  \n",
       "51       179.942626        None   10011  \n",
       "78       164.969509           2   10011  \n",
       "233      288.100357           1   10011  "
      ]
     },
     "execution_count": 24,
     "metadata": {},
     "output_type": "execute_result"
    }
   ],
   "source": [
    "# 1_Streetline Data: Spatial Join for Zipcodes Data\n",
    "mn_streetline_zip = gpd.sjoin(mn_streetline, nyc_zips, how=\"inner\", op='intersects')\n",
    "mn_streetline_zip.drop('index_right',axis=1, inplace=True)\n",
    "mn_streetline_zip.head()"
   ]
  },
  {
   "cell_type": "code",
   "execution_count": 25,
   "metadata": {
    "collapsed": false
   },
   "outputs": [
    {
     "name": "stderr",
     "output_type": "stream",
     "text": [
      "/opt/rh/anaconda/root/envs/PUI2016_Python2/lib/python2.7/site-packages/ipykernel/__main__.py:5: SettingWithCopyWarning: \n",
      "A value is trying to be set on a copy of a slice from a DataFrame\n",
      "\n",
      "See the caveats in the documentation: http://pandas.pydata.org/pandas-docs/stable/indexing.html#indexing-view-versus-copy\n"
     ]
    },
    {
     "data": {
      "text/html": [
       "<div>\n",
       "<table border=\"1\" class=\"dataframe\">\n",
       "  <thead>\n",
       "    <tr style=\"text-align: right;\">\n",
       "      <th></th>\n",
       "      <th>geometry</th>\n",
       "      <th>Street_width_1</th>\n",
       "      <th>Shape_length_1</th>\n",
       "      <th>bike_lane_1</th>\n",
       "      <th>ZIPCODE</th>\n",
       "    </tr>\n",
       "  </thead>\n",
       "  <tbody>\n",
       "    <tr>\n",
       "      <th>0</th>\n",
       "      <td>LINESTRING (-73.98839044575165 40.759164185675...</td>\n",
       "      <td>70.0</td>\n",
       "      <td>261.836375</td>\n",
       "      <td>2</td>\n",
       "      <td>10036</td>\n",
       "    </tr>\n",
       "    <tr>\n",
       "      <th>1</th>\n",
       "      <td>LINESTRING (-73.98225528672133 40.757387364895...</td>\n",
       "      <td>34.0</td>\n",
       "      <td>886.634328</td>\n",
       "      <td>None</td>\n",
       "      <td>10036</td>\n",
       "    </tr>\n",
       "    <tr>\n",
       "      <th>2</th>\n",
       "      <td>LINESTRING (-73.98504970074009 40.758573625615...</td>\n",
       "      <td>50.0</td>\n",
       "      <td>257.296959</td>\n",
       "      <td>3</td>\n",
       "      <td>10036</td>\n",
       "    </tr>\n",
       "    <tr>\n",
       "      <th>3</th>\n",
       "      <td>LINESTRING (-73.98744642241722 40.755372960490...</td>\n",
       "      <td>30.0</td>\n",
       "      <td>896.697044</td>\n",
       "      <td>None</td>\n",
       "      <td>10036</td>\n",
       "    </tr>\n",
       "    <tr>\n",
       "      <th>4</th>\n",
       "      <td>LINESTRING (-73.98839044575165 40.759164185675...</td>\n",
       "      <td>30.0</td>\n",
       "      <td>898.357543</td>\n",
       "      <td>None</td>\n",
       "      <td>10036</td>\n",
       "    </tr>\n",
       "  </tbody>\n",
       "</table>\n",
       "</div>"
      ],
      "text/plain": [
       "                                            geometry  Street_width_1  \\\n",
       "0  LINESTRING (-73.98839044575165 40.759164185675...            70.0   \n",
       "1  LINESTRING (-73.98225528672133 40.757387364895...            34.0   \n",
       "2  LINESTRING (-73.98504970074009 40.758573625615...            50.0   \n",
       "3  LINESTRING (-73.98744642241722 40.755372960490...            30.0   \n",
       "4  LINESTRING (-73.98839044575165 40.759164185675...            30.0   \n",
       "\n",
       "   Shape_length_1 bike_lane_1 ZIPCODE  \n",
       "0      261.836375           2   10036  \n",
       "1      886.634328        None   10036  \n",
       "2      257.296959           3   10036  \n",
       "3      896.697044        None   10036  \n",
       "4      898.357543        None   10036  "
      ]
     },
     "execution_count": 25,
     "metadata": {},
     "output_type": "execute_result"
    }
   ],
   "source": [
    "# 1_Streetline Data for 10036 Zip Code\n",
    "\n",
    "z10036_streetline = mn_streetline_zip[mn_streetline_zip['ZIPCODE'] == '10036']\n",
    "z10036_streetline.reset_index(inplace=True)\n",
    "z10036_streetline.drop('index', axis=1, inplace=True)\n",
    "z10036_streetline.head()"
   ]
  },
  {
   "cell_type": "code",
   "execution_count": 68,
   "metadata": {
    "collapsed": false
   },
   "outputs": [
    {
     "data": {
      "image/png": "[encoded data removed]",
      "text/plain": [
       "<matplotlib.figure.Figure at 0x7f7a836dae10>"
      ]
     },
     "metadata": {},
     "output_type": "display_data"
    }
   ],
   "source": [
    "# z10036_Dataset_1 : Sample Plotting of Truncated Data\n",
    "z10036_streetline.plot(figsize=(5,5))\n",
    "plt.show()"
   ]
  },
  {
   "cell_type": "code",
   "execution_count": 26,
   "metadata": {
    "collapsed": false
   },
   "outputs": [
    {
     "data": {
      "text/html": [
       "<div>\n",
       "<table border=\"1\" class=\"dataframe\">\n",
       "  <thead>\n",
       "    <tr style=\"text-align: right;\">\n",
       "      <th></th>\n",
       "      <th>geometry</th>\n",
       "      <th>DefNum</th>\n",
       "      <th>ZIPCODE</th>\n",
       "    </tr>\n",
       "  </thead>\n",
       "  <tbody>\n",
       "    <tr>\n",
       "      <th>0</th>\n",
       "      <td>LINESTRING (-73.99363904952871 40.727289211243...</td>\n",
       "      <td>DM1995139014</td>\n",
       "      <td>10012</td>\n",
       "    </tr>\n",
       "    <tr>\n",
       "      <th>2</th>\n",
       "      <td>(LINESTRING (-73.99373479457627 40.72091647931...</td>\n",
       "      <td>DM2009365001</td>\n",
       "      <td>10012</td>\n",
       "    </tr>\n",
       "    <tr>\n",
       "      <th>64</th>\n",
       "      <td>LINESTRING (-73.99546478567493 40.721619701739...</td>\n",
       "      <td>DM2010007010</td>\n",
       "      <td>10012</td>\n",
       "    </tr>\n",
       "    <tr>\n",
       "      <th>66</th>\n",
       "      <td>LINESTRING (-73.99647816655354 40.719048223742...</td>\n",
       "      <td>DM2010007012</td>\n",
       "      <td>10012</td>\n",
       "    </tr>\n",
       "    <tr>\n",
       "      <th>90</th>\n",
       "      <td>LINESTRING (-74.00089769870519 40.725773107416...</td>\n",
       "      <td>DM2010008018</td>\n",
       "      <td>10012</td>\n",
       "    </tr>\n",
       "  </tbody>\n",
       "</table>\n",
       "</div>"
      ],
      "text/plain": [
       "                                             geometry        DefNum ZIPCODE\n",
       "0   LINESTRING (-73.99363904952871 40.727289211243...  DM1995139014   10012\n",
       "2   (LINESTRING (-73.99373479457627 40.72091647931...  DM2009365001   10012\n",
       "64  LINESTRING (-73.99546478567493 40.721619701739...  DM2010007010   10012\n",
       "66  LINESTRING (-73.99647816655354 40.719048223742...  DM2010007012   10012\n",
       "90  LINESTRING (-74.00089769870519 40.725773107416...  DM2010008018   10012"
      ]
     },
     "execution_count": 26,
     "metadata": {},
     "output_type": "execute_result"
    }
   ],
   "source": [
    "# 2_Potholes Data: Spatial Join for Zipcodes Data\n",
    "mn_pthls_zip = gpd.sjoin(mn_pthls, nyc_zips, how=\"inner\", op='intersects')\n",
    "mn_pthls_zip.drop('index_right',axis=1, inplace=True)\n",
    "mn_pthls_zip.head()"
   ]
  },
  {
   "cell_type": "code",
   "execution_count": 27,
   "metadata": {
    "collapsed": false
   },
   "outputs": [
    {
     "name": "stderr",
     "output_type": "stream",
     "text": [
      "/opt/rh/anaconda/root/envs/PUI2016_Python2/lib/python2.7/site-packages/ipykernel/__main__.py:5: SettingWithCopyWarning: \n",
      "A value is trying to be set on a copy of a slice from a DataFrame\n",
      "\n",
      "See the caveats in the documentation: http://pandas.pydata.org/pandas-docs/stable/indexing.html#indexing-view-versus-copy\n"
     ]
    },
    {
     "data": {
      "text/html": [
       "<div>\n",
       "<table border=\"1\" class=\"dataframe\">\n",
       "  <thead>\n",
       "    <tr style=\"text-align: right;\">\n",
       "      <th></th>\n",
       "      <th>geometry</th>\n",
       "      <th>DefNum</th>\n",
       "      <th>ZIPCODE</th>\n",
       "    </tr>\n",
       "  </thead>\n",
       "  <tbody>\n",
       "    <tr>\n",
       "      <th>0</th>\n",
       "      <td>LINESTRING (-73.98929727544269 40.757906636940...</td>\n",
       "      <td>DM2010019020</td>\n",
       "      <td>10036</td>\n",
       "    </tr>\n",
       "    <tr>\n",
       "      <th>1</th>\n",
       "      <td>LINESTRING (-73.99360930667751 40.762183435465...</td>\n",
       "      <td>DM2010019021</td>\n",
       "      <td>10036</td>\n",
       "    </tr>\n",
       "    <tr>\n",
       "      <th>2</th>\n",
       "      <td>LINESTRING (-73.98461925246458 40.759199410623...</td>\n",
       "      <td>DM2010023010</td>\n",
       "      <td>10036</td>\n",
       "    </tr>\n",
       "    <tr>\n",
       "      <th>3</th>\n",
       "      <td>LINESTRING (-73.98510382940322 40.759404350842...</td>\n",
       "      <td>DM2010030020</td>\n",
       "      <td>10036</td>\n",
       "    </tr>\n",
       "    <tr>\n",
       "      <th>4</th>\n",
       "      <td>LINESTRING (-73.99307076331125 40.757827429144...</td>\n",
       "      <td>DM2010032049</td>\n",
       "      <td>10036</td>\n",
       "    </tr>\n",
       "  </tbody>\n",
       "</table>\n",
       "</div>"
      ],
      "text/plain": [
       "                                            geometry        DefNum ZIPCODE\n",
       "0  LINESTRING (-73.98929727544269 40.757906636940...  DM2010019020   10036\n",
       "1  LINESTRING (-73.99360930667751 40.762183435465...  DM2010019021   10036\n",
       "2  LINESTRING (-73.98461925246458 40.759199410623...  DM2010023010   10036\n",
       "3  LINESTRING (-73.98510382940322 40.759404350842...  DM2010030020   10036\n",
       "4  LINESTRING (-73.99307076331125 40.757827429144...  DM2010032049   10036"
      ]
     },
     "execution_count": 27,
     "metadata": {},
     "output_type": "execute_result"
    }
   ],
   "source": [
    "# 2_Potholes Data for 10036 Zip Code\n",
    "\n",
    "z10036_pthls = mn_pthls_zip[mn_pthls_zip['ZIPCODE'] == '10036']\n",
    "z10036_pthls.reset_index(inplace=True)\n",
    "z10036_pthls.drop('index', axis=1, inplace=True)\n",
    "z10036_pthls.head()"
   ]
  },
  {
   "cell_type": "code",
   "execution_count": 67,
   "metadata": {
    "collapsed": false
   },
   "outputs": [
    {
     "data": {
      "image/png": "[encoded data removed]",
      "text/plain": [
       "<matplotlib.figure.Figure at 0x7f7a83a10ad0>"
      ]
     },
     "metadata": {},
     "output_type": "display_data"
    }
   ],
   "source": [
    "# z10036_Dataset_2 : Sample Plotting of Truncated Data\n",
    "z10036_pthls.plot(figsize=(5,5))\n",
    "plt.show()"
   ]
  },
  {
   "cell_type": "code",
   "execution_count": 39,
   "metadata": {
    "collapsed": false
   },
   "outputs": [
    {
     "data": {
      "text/html": [
       "<div>\n",
       "<table border=\"1\" class=\"dataframe\">\n",
       "  <thead>\n",
       "    <tr style=\"text-align: right;\">\n",
       "      <th></th>\n",
       "      <th>geometry</th>\n",
       "      <th>Potholes</th>\n",
       "    </tr>\n",
       "  </thead>\n",
       "  <tbody>\n",
       "    <tr>\n",
       "      <th>0</th>\n",
       "      <td>LINESTRING (-73.98694873854555 40.756035902594...</td>\n",
       "      <td>66</td>\n",
       "    </tr>\n",
       "    <tr>\n",
       "      <th>1</th>\n",
       "      <td>LINESTRING (-73.98179404264692 40.758021303208...</td>\n",
       "      <td>41</td>\n",
       "    </tr>\n",
       "    <tr>\n",
       "      <th>2</th>\n",
       "      <td>LINESTRING (-73.98792640677709 40.759790276462...</td>\n",
       "      <td>37</td>\n",
       "    </tr>\n",
       "    <tr>\n",
       "      <th>3</th>\n",
       "      <td>LINESTRING (-73.98744642207124 40.755372960926...</td>\n",
       "      <td>35</td>\n",
       "    </tr>\n",
       "    <tr>\n",
       "      <th>4</th>\n",
       "      <td>LINESTRING (-73.9897908537408 40.7572331310242...</td>\n",
       "      <td>33</td>\n",
       "    </tr>\n",
       "  </tbody>\n",
       "</table>\n",
       "</div>"
      ],
      "text/plain": [
       "                                            geometry  Potholes\n",
       "0  LINESTRING (-73.98694873854555 40.756035902594...        66\n",
       "1  LINESTRING (-73.98179404264692 40.758021303208...        41\n",
       "2  LINESTRING (-73.98792640677709 40.759790276462...        37\n",
       "3  LINESTRING (-73.98744642207124 40.755372960926...        35\n",
       "4  LINESTRING (-73.9897908537408 40.7572331310242...        33"
      ]
     },
     "execution_count": 39,
     "metadata": {},
     "output_type": "execute_result"
    }
   ],
   "source": [
    "z10036_pthls_count = gpd.GeoDataFrame(z10036_pthls.geometry.value_counts())\n",
    "z10036_pthls_count.reset_index(inplace=True)\n",
    "z10036_pthls_count.columns = ['geometry','Potholes']\n",
    "z10036_pthls_count.head()"
   ]
  },
  {
   "cell_type": "code",
   "execution_count": 69,
   "metadata": {
    "collapsed": false
   },
   "outputs": [
    {
     "data": {
      "image/png": "[encoded data removed]",
      "text/plain": [
       "<matplotlib.figure.Figure at 0x7f7a8550b2d0>"
      ]
     },
     "metadata": {},
     "output_type": "display_data"
    }
   ],
   "source": [
    "# z10036_Dataset_2 : Sample Plotting of Truncated Data\n",
    "z10036_pthls.plot(figsize=(5,5))\n",
    "plt.show()"
   ]
  },
  {
   "cell_type": "code",
   "execution_count": 28,
   "metadata": {
    "collapsed": false
   },
   "outputs": [
    {
     "data": {
      "text/html": [
       "<div>\n",
       "<table border=\"1\" class=\"dataframe\">\n",
       "  <thead>\n",
       "    <tr style=\"text-align: right;\">\n",
       "      <th></th>\n",
       "      <th>geometry</th>\n",
       "      <th>Traf_Vol_3</th>\n",
       "      <th>Shape_Length_3</th>\n",
       "      <th>ZIPCODE</th>\n",
       "    </tr>\n",
       "  </thead>\n",
       "  <tbody>\n",
       "    <tr>\n",
       "      <th>0</th>\n",
       "      <td>LINESTRING (-73.85312405872757 40.894913023868...</td>\n",
       "      <td>6052.0</td>\n",
       "      <td>1166.162041</td>\n",
       "      <td>10466</td>\n",
       "    </tr>\n",
       "    <tr>\n",
       "      <th>1</th>\n",
       "      <td>LINESTRING (-73.86787494280257 40.858515042894...</td>\n",
       "      <td>10157.0</td>\n",
       "      <td>5308.008397</td>\n",
       "      <td>10466</td>\n",
       "    </tr>\n",
       "    <tr>\n",
       "      <th>43</th>\n",
       "      <td>LINESTRING (-73.84194795621147 40.888436815236...</td>\n",
       "      <td>14172.0</td>\n",
       "      <td>917.596721</td>\n",
       "      <td>10466</td>\n",
       "    </tr>\n",
       "    <tr>\n",
       "      <th>74</th>\n",
       "      <td>LINESTRING (-73.86182122438159 40.894726300727...</td>\n",
       "      <td>83184.0</td>\n",
       "      <td>724.484214</td>\n",
       "      <td>10466</td>\n",
       "    </tr>\n",
       "    <tr>\n",
       "      <th>86</th>\n",
       "      <td>LINESTRING (-73.83579602241448 40.875971001568...</td>\n",
       "      <td>13452.0</td>\n",
       "      <td>644.594833</td>\n",
       "      <td>10466</td>\n",
       "    </tr>\n",
       "  </tbody>\n",
       "</table>\n",
       "</div>"
      ],
      "text/plain": [
       "                                             geometry  Traf_Vol_3  \\\n",
       "0   LINESTRING (-73.85312405872757 40.894913023868...      6052.0   \n",
       "1   LINESTRING (-73.86787494280257 40.858515042894...     10157.0   \n",
       "43  LINESTRING (-73.84194795621147 40.888436815236...     14172.0   \n",
       "74  LINESTRING (-73.86182122438159 40.894726300727...     83184.0   \n",
       "86  LINESTRING (-73.83579602241448 40.875971001568...     13452.0   \n",
       "\n",
       "    Shape_Length_3 ZIPCODE  \n",
       "0      1166.162041   10466  \n",
       "1      5308.008397   10466  \n",
       "43      917.596721   10466  \n",
       "74      724.484214   10466  \n",
       "86      644.594833   10466  "
      ]
     },
     "execution_count": 28,
     "metadata": {},
     "output_type": "execute_result"
    }
   ],
   "source": [
    "# 3_Traffic Volume Data: Spatial Join for Zipcodes Data\n",
    "nyc_traf_vol_zip = gpd.sjoin(nyc_traf_vol, nyc_zips, how=\"inner\", op='intersects')\n",
    "nyc_traf_vol_zip.drop('index_right',axis=1, inplace=True)\n",
    "nyc_traf_vol_zip.head()"
   ]
  },
  {
   "cell_type": "code",
   "execution_count": 29,
   "metadata": {
    "collapsed": false
   },
   "outputs": [
    {
     "name": "stderr",
     "output_type": "stream",
     "text": [
      "/opt/rh/anaconda/root/envs/PUI2016_Python2/lib/python2.7/site-packages/ipykernel/__main__.py:5: SettingWithCopyWarning: \n",
      "A value is trying to be set on a copy of a slice from a DataFrame\n",
      "\n",
      "See the caveats in the documentation: http://pandas.pydata.org/pandas-docs/stable/indexing.html#indexing-view-versus-copy\n"
     ]
    },
    {
     "data": {
      "text/html": [
       "<div>\n",
       "<table border=\"1\" class=\"dataframe\">\n",
       "  <thead>\n",
       "    <tr style=\"text-align: right;\">\n",
       "      <th></th>\n",
       "      <th>geometry</th>\n",
       "      <th>Traf_Vol_3</th>\n",
       "      <th>Shape_Length_3</th>\n",
       "      <th>ZIPCODE</th>\n",
       "    </tr>\n",
       "  </thead>\n",
       "  <tbody>\n",
       "    <tr>\n",
       "      <th>0</th>\n",
       "      <td>LINESTRING (-73.9942454087245 40.7582871028222...</td>\n",
       "      <td>4902.0</td>\n",
       "      <td>709.660930</td>\n",
       "      <td>10036</td>\n",
       "    </tr>\n",
       "    <tr>\n",
       "      <th>1</th>\n",
       "      <td>LINESTRING (-73.99482294605312 40.760216443191...</td>\n",
       "      <td>8718.0</td>\n",
       "      <td>1395.001676</td>\n",
       "      <td>10036</td>\n",
       "    </tr>\n",
       "    <tr>\n",
       "      <th>2</th>\n",
       "      <td>LINESTRING (-73.99346622095732 40.762132741715...</td>\n",
       "      <td>10441.0</td>\n",
       "      <td>1398.420277</td>\n",
       "      <td>10036</td>\n",
       "    </tr>\n",
       "    <tr>\n",
       "      <th>3</th>\n",
       "      <td>LINESTRING (-73.98167991294639 40.767619451613...</td>\n",
       "      <td>14110.0</td>\n",
       "      <td>965.434394</td>\n",
       "      <td>10036</td>\n",
       "    </tr>\n",
       "    <tr>\n",
       "      <th>4</th>\n",
       "      <td>(LINESTRING (-73.98638094923577 40.75581101466...</td>\n",
       "      <td>10390.0</td>\n",
       "      <td>1931.539307</td>\n",
       "      <td>10036</td>\n",
       "    </tr>\n",
       "  </tbody>\n",
       "</table>\n",
       "</div>"
      ],
      "text/plain": [
       "                                            geometry  Traf_Vol_3  \\\n",
       "0  LINESTRING (-73.9942454087245 40.7582871028222...      4902.0   \n",
       "1  LINESTRING (-73.99482294605312 40.760216443191...      8718.0   \n",
       "2  LINESTRING (-73.99346622095732 40.762132741715...     10441.0   \n",
       "3  LINESTRING (-73.98167991294639 40.767619451613...     14110.0   \n",
       "4  (LINESTRING (-73.98638094923577 40.75581101466...     10390.0   \n",
       "\n",
       "   Shape_Length_3 ZIPCODE  \n",
       "0      709.660930   10036  \n",
       "1     1395.001676   10036  \n",
       "2     1398.420277   10036  \n",
       "3      965.434394   10036  \n",
       "4     1931.539307   10036  "
      ]
     },
     "execution_count": 29,
     "metadata": {},
     "output_type": "execute_result"
    }
   ],
   "source": [
    "# 3_Traffic Volume Data for 10036 Zip Code\n",
    "\n",
    "z10036_traf_vol = nyc_traf_vol_zip[nyc_traf_vol_zip['ZIPCODE'] == '10036']\n",
    "z10036_traf_vol.reset_index(inplace=True)\n",
    "z10036_traf_vol.drop('index', axis=1, inplace=True)\n",
    "z10036_traf_vol.head()"
   ]
  },
  {
   "cell_type": "code",
   "execution_count": 70,
   "metadata": {
    "collapsed": false
   },
   "outputs": [
    {
     "data": {
      "image/png": "[encoded data removed]",
      "text/plain": [
       "<matplotlib.figure.Figure at 0x7f7a825ec150>"
      ]
     },
     "metadata": {},
     "output_type": "display_data"
    }
   ],
   "source": [
    "# z10036_Dataset_3 : Sample Plotting of Truncated Data\n",
    "z10036_traf_vol.plot(figsize=(5,5))\n",
    "plt.show()"
   ]
  },
  {
   "cell_type": "code",
   "execution_count": 37,
   "metadata": {
    "collapsed": false
   },
   "outputs": [
    {
     "data": {
      "text/html": [
       "<div>\n",
       "<table border=\"1\" class=\"dataframe\">\n",
       "  <thead>\n",
       "    <tr style=\"text-align: right;\">\n",
       "      <th></th>\n",
       "      <th>geometry</th>\n",
       "      <th>box_id</th>\n",
       "      <th>ZIPCODE</th>\n",
       "    </tr>\n",
       "  </thead>\n",
       "  <tbody>\n",
       "    <tr>\n",
       "      <th>0</th>\n",
       "      <td>POINT (-73.878334 40.84256)</td>\n",
       "      <td>100646</td>\n",
       "      <td>10460</td>\n",
       "    </tr>\n",
       "    <tr>\n",
       "      <th>3</th>\n",
       "      <td>POINT (-73.866432 40.835388)</td>\n",
       "      <td>103380</td>\n",
       "      <td>10460</td>\n",
       "    </tr>\n",
       "    <tr>\n",
       "      <th>4</th>\n",
       "      <td>POINT (-73.870407 40.836433)</td>\n",
       "      <td>103381</td>\n",
       "      <td>10460</td>\n",
       "    </tr>\n",
       "    <tr>\n",
       "      <th>14</th>\n",
       "      <td>POINT (-73.878372 40.839821)</td>\n",
       "      <td>104003</td>\n",
       "      <td>10460</td>\n",
       "    </tr>\n",
       "    <tr>\n",
       "      <th>2124</th>\n",
       "      <td>POINT (-73.87771600000001 40.839375)</td>\n",
       "      <td>904233</td>\n",
       "      <td>10460</td>\n",
       "    </tr>\n",
       "  </tbody>\n",
       "</table>\n",
       "</div>"
      ],
      "text/plain": [
       "                                  geometry  box_id ZIPCODE\n",
       "0              POINT (-73.878334 40.84256)  100646   10460\n",
       "3             POINT (-73.866432 40.835388)  103380   10460\n",
       "4             POINT (-73.870407 40.836433)  103381   10460\n",
       "14            POINT (-73.878372 40.839821)  104003   10460\n",
       "2124  POINT (-73.87771600000001 40.839375)  904233   10460"
      ]
     },
     "execution_count": 37,
     "metadata": {},
     "output_type": "execute_result"
    }
   ],
   "source": [
    "# 4_Bus Stops Data: Spatial Join for Zipcodes Data\n",
    "nyc_busstops_zip = gpd.sjoin(nyc_busstops, nyc_zips, how=\"inner\", op='intersects')\n",
    "nyc_busstops_zip.drop('index_right',axis=1, inplace=True)\n",
    "nyc_busstops_zip.head()"
   ]
  },
  {
   "cell_type": "code",
   "execution_count": 35,
   "metadata": {
    "collapsed": false
   },
   "outputs": [],
   "source": [
    "nyc_busstops.crs = nyc_zips.crs"
   ]
  },
  {
   "cell_type": "code",
   "execution_count": 34,
   "metadata": {
    "collapsed": false
   },
   "outputs": [
    {
     "data": {
      "text/plain": [
       "{'init': 'epsg:4326', 'no_defs': True}"
      ]
     },
     "execution_count": 34,
     "metadata": {},
     "output_type": "execute_result"
    }
   ],
   "source": [
    "nyc_zips.crs"
   ]
  },
  {
   "cell_type": "code",
   "execution_count": 36,
   "metadata": {
    "collapsed": false
   },
   "outputs": [
    {
     "data": {
      "text/plain": [
       "{'init': 'epsg:4326', 'no_defs': True}"
      ]
     },
     "execution_count": 36,
     "metadata": {},
     "output_type": "execute_result"
    }
   ],
   "source": [
    "nyc_busstops.crs"
   ]
  },
  {
   "cell_type": "code",
   "execution_count": 38,
   "metadata": {
    "collapsed": false
   },
   "outputs": [
    {
     "name": "stderr",
     "output_type": "stream",
     "text": [
      "/opt/rh/anaconda/root/envs/PUI2016_Python2/lib/python2.7/site-packages/ipykernel/__main__.py:5: SettingWithCopyWarning: \n",
      "A value is trying to be set on a copy of a slice from a DataFrame\n",
      "\n",
      "See the caveats in the documentation: http://pandas.pydata.org/pandas-docs/stable/indexing.html#indexing-view-versus-copy\n"
     ]
    },
    {
     "data": {
      "text/html": [
       "<div>\n",
       "<table border=\"1\" class=\"dataframe\">\n",
       "  <thead>\n",
       "    <tr style=\"text-align: right;\">\n",
       "      <th></th>\n",
       "      <th>geometry</th>\n",
       "      <th>box_id</th>\n",
       "      <th>ZIPCODE</th>\n",
       "    </tr>\n",
       "  </thead>\n",
       "  <tbody>\n",
       "    <tr>\n",
       "      <th>0</th>\n",
       "      <td>POINT (-73.98024700000001 40.754517)</td>\n",
       "      <td>400134</td>\n",
       "      <td>10036</td>\n",
       "    </tr>\n",
       "    <tr>\n",
       "      <th>1</th>\n",
       "      <td>POINT (-73.97905 40.756157)</td>\n",
       "      <td>400516</td>\n",
       "      <td>10036</td>\n",
       "    </tr>\n",
       "    <tr>\n",
       "      <th>2</th>\n",
       "      <td>POINT (-73.97996500000001 40.754871)</td>\n",
       "      <td>405179</td>\n",
       "      <td>10036</td>\n",
       "    </tr>\n",
       "    <tr>\n",
       "      <th>3</th>\n",
       "      <td>POINT (-73.979668 40.755322)</td>\n",
       "      <td>803038</td>\n",
       "      <td>10036</td>\n",
       "    </tr>\n",
       "    <tr>\n",
       "      <th>4</th>\n",
       "      <td>POINT (-73.983396 40.755621)</td>\n",
       "      <td>450016</td>\n",
       "      <td>10036</td>\n",
       "    </tr>\n",
       "  </tbody>\n",
       "</table>\n",
       "</div>"
      ],
      "text/plain": [
       "                               geometry  box_id ZIPCODE\n",
       "0  POINT (-73.98024700000001 40.754517)  400134   10036\n",
       "1           POINT (-73.97905 40.756157)  400516   10036\n",
       "2  POINT (-73.97996500000001 40.754871)  405179   10036\n",
       "3          POINT (-73.979668 40.755322)  803038   10036\n",
       "4          POINT (-73.983396 40.755621)  450016   10036"
      ]
     },
     "execution_count": 38,
     "metadata": {},
     "output_type": "execute_result"
    }
   ],
   "source": [
    "# 4_Bus Stops Data for 10036 Zip Code\n",
    "\n",
    "z10036_busstops = nyc_busstops_zip[nyc_busstops_zip['ZIPCODE'] == '10036']\n",
    "z10036_busstops.reset_index(inplace=True)\n",
    "z10036_busstops.drop('index', axis=1, inplace=True)\n",
    "z10036_busstops.head()"
   ]
  },
  {
   "cell_type": "code",
   "execution_count": 71,
   "metadata": {
    "collapsed": false
   },
   "outputs": [
    {
     "data": {
      "image/png": "[encoded data removed]",
      "text/plain": [
       "<matplotlib.figure.Figure at 0x7f7a83b56b50>"
      ]
     },
     "metadata": {},
     "output_type": "display_data"
    }
   ],
   "source": [
    "# z10036_Dataset_4 : Sample Plotting of Truncated Data\n",
    "z10036_busstops.plot(figsize=(5,5))\n",
    "plt.show()"
   ]
  },
  {
   "cell_type": "markdown",
   "metadata": {},
   "source": [
    "# Final Dataset for 10036 ZIP - Trying this but lot of complexities in data merging still remain"
   ]
  },
  {
   "cell_type": "code",
   "execution_count": 45,
   "metadata": {
    "collapsed": true
   },
   "outputs": [],
   "source": [
    "z10036_pthls_count.crs = z10036_streetline.crs"
   ]
  },
  {
   "cell_type": "code",
   "execution_count": 108,
   "metadata": {
    "collapsed": false
   },
   "outputs": [
    {
     "data": {
      "text/plain": [
       "154"
      ]
     },
     "execution_count": 108,
     "metadata": {},
     "output_type": "execute_result"
    }
   ],
   "source": [
    "z10036_1 = gpd.sjoin(z10036_streetline,z10036_traf_vol, how=\"inner\", op='intersects')\n",
    "len(z10036_1)"
   ]
  },
  {
   "cell_type": "code",
   "execution_count": 109,
   "metadata": {
    "collapsed": false
   },
   "outputs": [
    {
     "data": {
      "text/plain": [
       "Index([      u'geometry', u'Street_width_1', u'Shape_length_1',\n",
       "          u'bike_lane_1',   u'ZIPCODE_left',    u'index_right',\n",
       "           u'Traf_Vol_3', u'Shape_Length_3',  u'ZIPCODE_right'],\n",
       "      dtype='object')"
      ]
     },
     "execution_count": 109,
     "metadata": {},
     "output_type": "execute_result"
    }
   ],
   "source": [
    "z10036_1.columns"
   ]
  },
  {
   "cell_type": "code",
   "execution_count": 110,
   "metadata": {
    "collapsed": false
   },
   "outputs": [
    {
     "data": {
      "text/html": [
       "<div>\n",
       "<table border=\"1\" class=\"dataframe\">\n",
       "  <thead>\n",
       "    <tr style=\"text-align: right;\">\n",
       "      <th></th>\n",
       "      <th>geometry</th>\n",
       "      <th>Traf_Vol_3</th>\n",
       "      <th>Street_width_1</th>\n",
       "      <th>Shape_length_1</th>\n",
       "      <th>Shape_Length_3</th>\n",
       "    </tr>\n",
       "  </thead>\n",
       "  <tbody>\n",
       "    <tr>\n",
       "      <th>0</th>\n",
       "      <td>LINESTRING (-73.98839044575165 40.759164185675...</td>\n",
       "      <td>6444.0</td>\n",
       "      <td>70.0</td>\n",
       "      <td>261.836375</td>\n",
       "      <td>1416.269703</td>\n",
       "    </tr>\n",
       "    <tr>\n",
       "      <th>1</th>\n",
       "      <td>LINESTRING (-73.98225528672133 40.757387364895...</td>\n",
       "      <td>10441.0</td>\n",
       "      <td>34.0</td>\n",
       "      <td>886.634328</td>\n",
       "      <td>1398.420277</td>\n",
       "    </tr>\n",
       "    <tr>\n",
       "      <th>2</th>\n",
       "      <td>LINESTRING (-73.98744642241722 40.755372960490...</td>\n",
       "      <td>5753.0</td>\n",
       "      <td>30.0</td>\n",
       "      <td>896.697044</td>\n",
       "      <td>933.440515</td>\n",
       "    </tr>\n",
       "    <tr>\n",
       "      <th>3</th>\n",
       "      <td>LINESTRING (-73.98744642241722 40.755372960490...</td>\n",
       "      <td>29870.0</td>\n",
       "      <td>30.0</td>\n",
       "      <td>896.697044</td>\n",
       "      <td>2001.272120</td>\n",
       "    </tr>\n",
       "    <tr>\n",
       "      <th>4</th>\n",
       "      <td>LINESTRING (-73.98839044575165 40.759164185675...</td>\n",
       "      <td>6444.0</td>\n",
       "      <td>30.0</td>\n",
       "      <td>898.357543</td>\n",
       "      <td>1416.269703</td>\n",
       "    </tr>\n",
       "  </tbody>\n",
       "</table>\n",
       "</div>"
      ],
      "text/plain": [
       "                                            geometry  Traf_Vol_3  \\\n",
       "0  LINESTRING (-73.98839044575165 40.759164185675...      6444.0   \n",
       "1  LINESTRING (-73.98225528672133 40.757387364895...     10441.0   \n",
       "2  LINESTRING (-73.98744642241722 40.755372960490...      5753.0   \n",
       "3  LINESTRING (-73.98744642241722 40.755372960490...     29870.0   \n",
       "4  LINESTRING (-73.98839044575165 40.759164185675...      6444.0   \n",
       "\n",
       "   Street_width_1  Shape_length_1  Shape_Length_3  \n",
       "0            70.0      261.836375     1416.269703  \n",
       "1            34.0      886.634328     1398.420277  \n",
       "2            30.0      896.697044      933.440515  \n",
       "3            30.0      896.697044     2001.272120  \n",
       "4            30.0      898.357543     1416.269703  "
      ]
     },
     "execution_count": 110,
     "metadata": {},
     "output_type": "execute_result"
    }
   ],
   "source": [
    "z10036_1 = z10036_1[[ u'geometry',u'Traf_Vol_3', u'Street_width_1', u'Shape_length_1', u'Shape_Length_3']]\n",
    "z10036_1.sort_index(inplace=True)\n",
    "z10036_1.reset_index(inplace=True)\n",
    "z10036_1.drop('index', axis=1, inplace=True)\n",
    "z10036_1.head()"
   ]
  },
  {
   "cell_type": "code",
   "execution_count": 126,
   "metadata": {
    "collapsed": false
   },
   "outputs": [],
   "source": [
    "#Using Normal Standardization\n",
    "reg_data = pd.DataFrame()\n",
    "\n",
    "reg_data['Traf_Vol_3'] = (z10036_1['Traf_Vol_3']-z10036_1['Traf_Vol_3'].mean())/z10036_1['Traf_Vol_3'].std()\n",
    "reg_data['Street_width_1'] = (z10036_1['Street_width_1']-z10036_1['Street_width_1'].mean())/z10036_1['Street_width_1'].std()\n",
    "reg_data['Shape_length_1'] = (z10036_1['Shape_length_1']-z10036_1['Shape_length_1'].mean())/z10036_1['Shape_length_1'].std()"
   ]
  },
  {
   "cell_type": "code",
   "execution_count": 127,
   "metadata": {
    "collapsed": false,
    "scrolled": true
   },
   "outputs": [
    {
     "data": {
      "text/html": [
       "<div>\n",
       "<table border=\"1\" class=\"dataframe\">\n",
       "  <thead>\n",
       "    <tr style=\"text-align: right;\">\n",
       "      <th></th>\n",
       "      <th>Traf_Vol_3</th>\n",
       "      <th>Street_width_1</th>\n",
       "      <th>Shape_length_1</th>\n",
       "    </tr>\n",
       "  </thead>\n",
       "  <tbody>\n",
       "    <tr>\n",
       "      <th>0</th>\n",
       "      <td>-0.563767</td>\n",
       "      <td>1.415331</td>\n",
       "      <td>-0.825510</td>\n",
       "    </tr>\n",
       "    <tr>\n",
       "      <th>1</th>\n",
       "      <td>-0.383104</td>\n",
       "      <td>-0.873641</td>\n",
       "      <td>1.224473</td>\n",
       "    </tr>\n",
       "    <tr>\n",
       "      <th>2</th>\n",
       "      <td>-0.594999</td>\n",
       "      <td>-1.127971</td>\n",
       "      <td>1.257489</td>\n",
       "    </tr>\n",
       "    <tr>\n",
       "      <th>3</th>\n",
       "      <td>0.495079</td>\n",
       "      <td>-1.127971</td>\n",
       "      <td>1.257489</td>\n",
       "    </tr>\n",
       "    <tr>\n",
       "      <th>4</th>\n",
       "      <td>-0.563767</td>\n",
       "      <td>-1.127971</td>\n",
       "      <td>1.262937</td>\n",
       "    </tr>\n",
       "  </tbody>\n",
       "</table>\n",
       "</div>"
      ],
      "text/plain": [
       "   Traf_Vol_3  Street_width_1  Shape_length_1\n",
       "0   -0.563767        1.415331       -0.825510\n",
       "1   -0.383104       -0.873641        1.224473\n",
       "2   -0.594999       -1.127971        1.257489\n",
       "3    0.495079       -1.127971        1.257489\n",
       "4   -0.563767       -1.127971        1.262937"
      ]
     },
     "execution_count": 127,
     "metadata": {},
     "output_type": "execute_result"
    }
   ],
   "source": [
    "reg_data.head()"
   ]
  },
  {
   "cell_type": "code",
   "execution_count": 120,
   "metadata": {
    "collapsed": false
   },
   "outputs": [],
   "source": [
    "#Feature Scaling\n",
    "reg_data_1 = pd.DataFrame()\n",
    "reg_data_1['Traf_Vol_3'] = (z10036_1['Traf_Vol_3']-z10036_1['Traf_Vol_3'].min())/(z10036_1['Traf_Vol_3'].max()-z10036_1['Traf_Vol_3'].min())\n",
    "reg_data_1['Street_width_1'] = (z10036_1['Street_width_1']-z10036_1['Street_width_1'].min())/(z10036_1['Street_width_1'].max()-z10036_1['Street_width_1'].min())\n",
    "reg_data_1['Shape_length_1'] = (z10036_1['Shape_length_1']-z10036_1['Shape_length_1'].min())/(z10036_1['Shape_length_1'].max()-z10036_1['Shape_length_1'].min())"
   ]
  },
  {
   "cell_type": "code",
   "execution_count": 121,
   "metadata": {
    "collapsed": false
   },
   "outputs": [
    {
     "data": {
      "text/html": [
       "<div>\n",
       "<table border=\"1\" class=\"dataframe\">\n",
       "  <thead>\n",
       "    <tr style=\"text-align: right;\">\n",
       "      <th></th>\n",
       "      <th>Traf_Vol_3</th>\n",
       "      <th>Street_width_1</th>\n",
       "      <th>Shape_length_1</th>\n",
       "    </tr>\n",
       "  </thead>\n",
       "  <tbody>\n",
       "    <tr>\n",
       "      <th>0</th>\n",
       "      <td>0.022156</td>\n",
       "      <td>0.888889</td>\n",
       "      <td>0.226130</td>\n",
       "    </tr>\n",
       "    <tr>\n",
       "      <th>1</th>\n",
       "      <td>0.062836</td>\n",
       "      <td>0.088889</td>\n",
       "      <td>0.860750</td>\n",
       "    </tr>\n",
       "    <tr>\n",
       "      <th>2</th>\n",
       "      <td>0.015124</td>\n",
       "      <td>0.000000</td>\n",
       "      <td>0.870971</td>\n",
       "    </tr>\n",
       "    <tr>\n",
       "      <th>3</th>\n",
       "      <td>0.260574</td>\n",
       "      <td>0.000000</td>\n",
       "      <td>0.870971</td>\n",
       "    </tr>\n",
       "    <tr>\n",
       "      <th>4</th>\n",
       "      <td>0.022156</td>\n",
       "      <td>0.000000</td>\n",
       "      <td>0.872657</td>\n",
       "    </tr>\n",
       "  </tbody>\n",
       "</table>\n",
       "</div>"
      ],
      "text/plain": [
       "   Traf_Vol_3  Street_width_1  Shape_length_1\n",
       "0    0.022156        0.888889        0.226130\n",
       "1    0.062836        0.088889        0.860750\n",
       "2    0.015124        0.000000        0.870971\n",
       "3    0.260574        0.000000        0.870971\n",
       "4    0.022156        0.000000        0.872657"
      ]
     },
     "execution_count": 121,
     "metadata": {},
     "output_type": "execute_result"
    }
   ],
   "source": [
    "reg_data_1.head()"
   ]
  },
  {
   "cell_type": "markdown",
   "metadata": {
    "collapsed": true
   },
   "source": [
    "# Regression Analysis"
   ]
  },
  {
   "cell_type": "markdown",
   "metadata": {
    "collapsed": true
   },
   "source": [
    "#### Idea:\n",
    "\n",
    "As per the initial idea, I wanted to take all the underlying factors that affect the efficiency of a road network in some way or the other and try to quantify the effect of each such factor."
   ]
  },
  {
   "cell_type": "markdown",
   "metadata": {
    "collapsed": true
   },
   "source": [
    "#### Limitation:\n",
    "Even though I have come a long way in preparing a clear dataset for analysing the efficiency of network, there are still many issues to be resolved in terms of spatial data. If u observe carefully, all of the datasets do not have the same/similar geometries, there are minor difference because of which the merge is not perfect.\n",
    "\n",
    "Due to these limitations, (in particular for this PUI Extra Credit project) I am reducing my scope of my work to individually analyse some of the factors that are clear."
   ]
  },
  {
   "cell_type": "code",
   "execution_count": 133,
   "metadata": {
    "collapsed": false
   },
   "outputs": [
    {
     "name": "stdout",
     "output_type": "stream",
     "text": [
      "                            OLS Regression Results                            \n",
      "==============================================================================\n",
      "Dep. Variable:             Traf_Vol_3   R-squared:                       0.050\n",
      "Model:                            OLS   Adj. R-squared:                  0.037\n",
      "Method:                 Least Squares   F-statistic:                     3.970\n",
      "Date:                Thu, 15 Dec 2016   Prob (F-statistic):             0.0209\n",
      "Time:                        20:26:10   Log-Likelihood:                -214.07\n",
      "No. Observations:                 154   AIC:                             434.1\n",
      "Df Residuals:                     151   BIC:                             443.2\n",
      "Df Model:                           2                                         \n",
      "Covariance Type:            nonrobust                                         \n",
      "==================================================================================\n",
      "                     coef    std err          t      P>|t|      [95.0% Conf. Int.]\n",
      "----------------------------------------------------------------------------------\n",
      "Intercept      -3.469e-17      0.079  -4.39e-16      1.000        -0.156     0.156\n",
      "Street_width_1    -0.2626      0.097     -2.706      0.008        -0.454    -0.071\n",
      "Shape_length_1    -0.0890      0.097     -0.917      0.361        -0.281     0.103\n",
      "==============================================================================\n",
      "Omnibus:                       94.628   Durbin-Watson:                   2.059\n",
      "Prob(Omnibus):                  0.000   Jarque-Bera (JB):              414.544\n",
      "Skew:                           2.417   Prob(JB):                     9.61e-91\n",
      "Kurtosis:                       9.422   Cond. No.                         1.93\n",
      "==============================================================================\n",
      "\n",
      "Warnings:\n",
      "[1] Standard Errors assume that the covariance matrix of the errors is correctly specified.\n"
     ]
    }
   ],
   "source": [
    "lm = smf.ols(formula = 'Traf_Vol_3 ~ Street_width_1 + Shape_length_1', data = reg_data).fit()\n",
    "print lm.summary()\n",
    "#print(lm.params[1:])\n",
    "#print('R^2', lm.rsquared)"
   ]
  },
  {
   "cell_type": "code",
   "execution_count": 135,
   "metadata": {
    "collapsed": false
   },
   "outputs": [
    {
     "name": "stdout",
     "output_type": "stream",
     "text": [
      "                            OLS Regression Results                            \n",
      "==============================================================================\n",
      "Dep. Variable:             Traf_Vol_3   R-squared:                       0.050\n",
      "Model:                            OLS   Adj. R-squared:                  0.037\n",
      "Method:                 Least Squares   F-statistic:                     3.970\n",
      "Date:                Thu, 15 Dec 2016   Prob (F-statistic):             0.0209\n",
      "Time:                        20:28:21   Log-Likelihood:                 15.531\n",
      "No. Observations:                 154   AIC:                            -25.06\n",
      "Df Residuals:                     151   BIC:                            -15.95\n",
      "Df Model:                           2                                         \n",
      "Covariance Type:            nonrobust                                         \n",
      "==================================================================================\n",
      "                     coef    std err          t      P>|t|      [95.0% Conf. Int.]\n",
      "----------------------------------------------------------------------------------\n",
      "Intercept          0.2470      0.055      4.475      0.000         0.138     0.356\n",
      "Street_width_1    -0.1692      0.063     -2.706      0.008        -0.293    -0.046\n",
      "Shape_length_1    -0.0647      0.071     -0.917      0.361        -0.204     0.075\n",
      "==============================================================================\n",
      "Omnibus:                       94.628   Durbin-Watson:                   2.059\n",
      "Prob(Omnibus):                  0.000   Jarque-Bera (JB):              414.544\n",
      "Skew:                           2.417   Prob(JB):                     9.61e-91\n",
      "Kurtosis:                       9.422   Cond. No.                         6.60\n",
      "==============================================================================\n",
      "\n",
      "Warnings:\n",
      "[1] Standard Errors assume that the covariance matrix of the errors is correctly specified.\n"
     ]
    }
   ],
   "source": [
    "lm = smf.ols(formula = 'Traf_Vol_3 ~ Street_width_1 + Shape_length_1', data = reg_data_1).fit()\n",
    "print lm.summary()"
   ]
  },
  {
   "cell_type": "markdown",
   "metadata": {},
   "source": [
    "###### Despite Normalizing the accuracy of my model is very low at the moment. There is still a lot of scope to clean the data and revisit the statistics.\n"
   ]
  },
  {
   "cell_type": "code",
   "execution_count": null,
   "metadata": {
    "collapsed": true
   },
   "outputs": [],
   "source": []
  }
 ],
 "metadata": {
  "anaconda-cloud": {},
  "kernelspec": {
   "display_name": "PUI2016_Python2",
   "language": "python",
   "name": "pui2016_python2"
  },
  "language_info": {
   "codemirror_mode": {
    "name": "ipython",
    "version": 2
   },
   "file_extension": ".py",
   "mimetype": "text/x-python",
   "name": "python",
   "nbconvert_exporter": "python",
   "pygments_lexer": "ipython2",
   "version": "2.7.12"
  }
 },
 "nbformat": 4,
 "nbformat_minor": 1
}
